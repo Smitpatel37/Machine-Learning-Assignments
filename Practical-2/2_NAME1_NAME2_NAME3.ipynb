{
  "cells": [
    {
      "cell_type": "markdown",
      "source": [
        "# Machine Learning - Practical 2\n",
        "\n",
        "Names: {YOUR NAMES}"
      ],
      "metadata": {}
    },
    {
      "cell_type": "code",
      "source": [
        "import pickle\n",
        "import numpy as np\n",
        "import pandas as pd\n",
        "from matplotlib import pyplot as plt\n",
        "from sklearn.linear_model import LogisticRegression"
      ],
      "outputs": [],
      "execution_count": null,
      "metadata": {}
    },
    {
      "cell_type": "markdown",
      "source": [
        "# Task 1: The Data\n",
        "\n",
        "We use the mouse protein expression dataset: https://archive.ics.uci.edu/ml/datasets/Mice+Protein+Expression\n",
        "Please use the code provided below for loading the dataset."
      ],
      "metadata": {}
    },
    {
      "cell_type": "code",
      "source": [
        "file = 'data/Data_Cortex_Nuclear.csv'\n",
        "df = pd.read_csv(file)\n",
        "\n",
        "N = 10  # use only every tenth sample\n",
        "X_all = df.iloc[::N,1:65].to_numpy()\n",
        "t_all = (df['Behavior'] == 'S/C').to_numpy()[::N]\n",
        "\n",
        "idx = ~np.any(np.isnan(X_all), axis=1)\n",
        "X_all = X_all[idx]\n",
        "t_all = t_all[idx]"
      ],
      "outputs": [],
      "execution_count": null,
      "metadata": {}
    },
    {
      "cell_type": "markdown",
      "source": [
        "### Tasks 1.1: Dataset Exploration \n",
        "\n",
        "Let's start with a bit of exploration.\n",
        "\n",
        "- How many samples / features are provided?\n",
        "- How many labels does the dataset have?\n",
        "- What is the value range of the individuals predictors?\n",
        "- Visualize the 10 first samples of the dataset in a form that highlights their differences.\n",
        "- Visualize the variance of each predictor."
      ],
      "metadata": {}
    },
    {
      "cell_type": "code",
      "source": [
        "# data exploration\n"
      ],
      "outputs": [],
      "execution_count": null,
      "metadata": {}
    },
    {
      "cell_type": "markdown",
      "source": [
        "**Task 1.2: Data Preprocessing**:  \n",
        "- Write a function `split_data(X, y, frac, seed)` that first shuffles your training data and then splits it into a training and a test set. `frac` determines the relative size of the test dataset, `seed` makes sure we get reproducible \n",
        "results.  \n",
        "- Write a function `preprocess(X)` which zero-centers your data and sets variance to one (per-feature)."
      ],
      "metadata": {}
    },
    {
      "cell_type": "code",
      "source": [
        "def split_data(X, y, frac=0.3, seed=None):\n",
        "    if seed is not None:\n",
        "        np.random.seed(seed)\n",
        "\n",
        "    # ---------------- INSERT CODE ----------------------\n",
        "\n",
        "\n",
        "\n",
        "    # ---------------- END CODE -------------------------\n",
        "    \n",
        "    return X_train, X_test, y_train, y_test\n",
        "    \n",
        "    \n",
        "def preprocess(X):\n",
        "    if seed is not None:\n",
        "        np.random.seed(seed)\n",
        "\n",
        "    # ---------------- INSERT CODE ----------------------\n",
        "\n",
        "\n",
        "\n",
        "    # ---------------- END CODE -------------------------\n",
        "    \n",
        "    return X"
      ],
      "outputs": [],
      "execution_count": null,
      "metadata": {}
    },
    {
      "cell_type": "markdown",
      "source": [
        "# Task 2: LDA\n",
        "\n",
        "First, use Linear Discriminant Analysis to separate the classes. As discussed in the Bishop in pg. 186-189, we can find a weight vector $\\vec{w}$ that performs a projection of the i-th input data point $\\vec{x}_i$\n",
        "\n",
        "$p =   \\vec{w}^T \\vec{x}_i$\n",
        "\n",
        "that optimally separates the classes.\n",
        "\n",
        "Use the analytic solution to compute the optimal weights $\\vec{w}$ from the training set data. \n",
        "\n",
        "### Task 2.1\n",
        "\n",
        "1. Implement a function `compute_lda_weights(x, y)` manually, which carries out LDA using the data `x,y`. \n",
        "2. Apply this function on your training data.\n",
        "3. Visualize the obtained weight vector $\\vec{w}$ using a `plt.stemplot`."
      ],
      "metadata": {}
    },
    {
      "cell_type": "code",
      "source": [
        "# example usage of stemplot\n",
        "w_lda = np.random.uniform(-1, 1, 50)  # example data\n",
        "plt.stem(w_lda.flatten(), use_line_collection=True)\n",
        "plt.title('Computed LDA weights')\n",
        "plt.ylabel('weight')\n",
        "plt.xlabel('predictors')"
      ],
      "outputs": [],
      "execution_count": null,
      "metadata": {}
    },
    {
      "cell_type": "code",
      "source": [
        "def compute_lda_weights(x, y, alpha=0.001):\n",
        "    '''function that computes regularized LDA weights for a two class problem\n",
        "\n",
        "    input:\n",
        "        x: training data -- array with shape (n_examples x n_features)\n",
        "        y: training data class label -- flat array with length (n_examples)\n",
        "        alpha: regularization strength -- float\n",
        "\n",
        "    output:\n",
        "        m0: mean of the training examples of class 0 -- flat array with length (n_features)\n",
        "        m1: mean of the training examples of class 1 -- flat array with length (n_features)\n",
        "        mdiff: difference of the two class means -- flat array with length (n_features)\n",
        "        w: regularized LDA weight vector -- flat array with length (n_features)\n",
        "        '''\n",
        "\n",
        "    # ---------------- INSERT CODE ----------------------\n",
        "\n",
        "\n",
        "\n",
        "    # ---------------- END CODE -------------------------\n",
        "\n",
        "    return m0, m1, mdiff, w"
      ],
      "outputs": [],
      "execution_count": null,
      "metadata": {}
    },
    {
      "cell_type": "code",
      "source": [
        "# split dataset and apply LDA\n"
      ],
      "outputs": [],
      "execution_count": null,
      "metadata": {}
    },
    {
      "cell_type": "code",
      "source": [
        "# visualize LDA weights using stemplot\n"
      ],
      "outputs": [],
      "execution_count": null,
      "metadata": {}
    },
    {
      "cell_type": "markdown",
      "source": [
        "### Task 2.2\n",
        "\n",
        "Project the training data and the test data on $\\vec{w}$. Visualize the class separation using a two-color histogram. \n",
        "- Is the class separation good?\n",
        "- Is there a big difference between training and test data?"
      ],
      "metadata": {}
    },
    {
      "cell_type": "code",
      "source": [
        "# example usage of histogram\n",
        "a, b = np.random.normal(2, 1, 20), np.random.normal(0, 1, 20)  # example data\n",
        "\n",
        "plt.title('Training data projection')\n",
        "_ = plt.hist(a,label='class 0',alpha=0.5)\n",
        "_ = plt.hist(b,label='class 1',alpha=0.5)"
      ],
      "outputs": [],
      "execution_count": null,
      "metadata": {}
    },
    {
      "cell_type": "code",
      "source": [
        "# compute projections for training and test data\n"
      ],
      "outputs": [],
      "execution_count": null,
      "metadata": {}
    },
    {
      "cell_type": "code",
      "source": [
        "# visualize projections using histogram\n"
      ],
      "outputs": [],
      "execution_count": null,
      "metadata": {}
    },
    {
      "cell_type": "markdown",
      "source": [
        "### Task 2.3\n",
        "\n",
        "Now we make class predictions based on the projections. Read https://en.wikipedia.org/wiki/Linear_discriminant_analysis#Fisher's_linear_discriminant and compute threshold $c$ for the projected values $p$ based on the training data. Print the value of $c$ and plot $c$ into the histograms of projected values you made before!\n",
        "\n",
        "Use $c$ to assign class labels for training and test set. Determine the classification errors (in terms of accuracy) on both datasets and print them. "
      ],
      "metadata": {}
    },
    {
      "cell_type": "code",
      "source": [
        "def compute_threshold_LDA(m0, m1, w):\n",
        "    '''Compute the optimal threshold for LDA .\n",
        "\n",
        "    input:\n",
        "        m0, m1: mean vectors of the two classes -- flat array with length (n_features)\n",
        "        w: weight vector of LDA -- flat array with length (n_features)\n",
        "\n",
        "    output:\n",
        "        c: the optimal threshold for LDA \n",
        "    '''\n",
        "\n",
        "    # ---------------- INSERT CODE ----------------------\n",
        "\n",
        "\n",
        "\n",
        "    # ---------------- END CODE -------------------------\n",
        "  \n",
        "    return c\n",
        "\n",
        "\n",
        "def score_LDA(x_proj, y, c):\n",
        "    '''Compute the accuracy given a threshold.\n",
        "\n",
        "    input:\n",
        "        x_proj: projected data -- flat array with length (n_examples)    \n",
        "        y: class labels -- flat array with length (n_examples)\n",
        "        c: optimal threshold for LDA - scalar\n",
        "\n",
        "    output:\n",
        "        y_hat: class label predicitons of LDA model -- flat array with length (n_examples)\n",
        "        acc: classification accuracy\n",
        "    '''\n",
        "    # ---------------- INSERT CODE ----------------------\n",
        "\n",
        "\n",
        "\n",
        "    # ---------------- END CODE -------------------------\n",
        "    \n",
        "    return y_hat, acc"
      ],
      "outputs": [],
      "execution_count": null,
      "metadata": {}
    },
    {
      "cell_type": "code",
      "source": [
        "# compute optimal threshold\n"
      ],
      "outputs": [],
      "execution_count": null,
      "metadata": {}
    },
    {
      "cell_type": "code",
      "source": [
        "# compute classification accuracy\n"
      ],
      "outputs": [],
      "execution_count": null,
      "metadata": {}
    },
    {
      "cell_type": "code",
      "source": [
        "# visualize treshold in histogram\n"
      ],
      "outputs": [],
      "execution_count": null,
      "metadata": {}
    },
    {
      "cell_type": "markdown",
      "source": [
        "## Task 3: Logistic Regression\n",
        "\n",
        "Next, we will consider classification using Logistic Regression. \n",
        "\n",
        "For this task, we will use a different dataset:  \n",
        "It consists of activations from a convolutional neural network (ResNet18) for images of cats and dogs.\n",
        "The dataset contains 2,000 samples (i.e. CNN activations) and 256 features (i.e. the CNN activations have 256 dimensions). A target value of 0 indicates a cat, 1 a dog.\n",
        "\n",
        "Below, you find all imports that are necessary.\n"
      ],
      "metadata": {}
    },
    {
      "cell_type": "code",
      "source": [
        "X_all, t_all = pickle.load(open('data/cnn_features.pickle', 'rb'))"
      ],
      "outputs": [],
      "execution_count": null,
      "metadata": {}
    },
    {
      "cell_type": "markdown",
      "source": [
        "### Task 3.0: Normalize and split the data\n",
        "\n",
        "Make sure the data has has zero mean and variance 1 per feature."
      ],
      "metadata": {}
    },
    {
      "cell_type": "code",
      "source": [
        "# normalize data\n"
      ],
      "outputs": [],
      "execution_count": null,
      "metadata": {}
    },
    {
      "cell_type": "markdown",
      "source": [
        "### Task 3.1: Iterative Reweighted Least Squares**\n",
        "\n",
        "1. Implement the IRLS algorithm and output at each iteration the current training accuracy. Remember the weight are updated according to:\n",
        "$$ w' = w - ( \\Phi^T R \\Phi ) ^ {-1} \\Phi^T (y - t)$$\n",
        "where $y$ is the prediction, $t$ the ground truth target, $R$ the weighting matrix and $\\Phi$ the design matrix.  \n",
        "\n",
        "    Hints:  \n",
        "    (a) There is a bias term in logistic regression  \n",
        "    (b) Use a small value for weight init to avoid numerical problems.\n",
        "\n",
        "\n",
        "2. Apply the IRLS algorithm on data and compute the test accuracy.\n",
        "3. Compare the results of your implementation to the sklearn implementation of `LogisticRegression(penalty='none')`. Do you get the same result?"
      ],
      "metadata": {}
    },
    {
      "cell_type": "code",
      "source": [
        "# IRLS\n"
      ],
      "outputs": [],
      "execution_count": null,
      "metadata": {}
    },
    {
      "cell_type": "markdown",
      "source": [
        "### Task 3.2: Logistic Regression with Regularization\n",
        "\n",
        "1. Set sklearn's penalty parameter to `l1` and `l2`. Use the range `np.linspace(0.02, 1, 25)` for the parameter `C`, which controls the strength of regularization. Where is the regularization strongest, for small or big `C`?   \n",
        "Hint: For `l1` regularization you can use the `saga` solver.\n",
        "2. Plot strength of regularization over accuracy. Does regularization improve the scores?\n",
        "3. Visualize the coefficients (or just a subset of all coefficient for a better overview) of the regularized settings and the unregularized setting. What do you observe?\n",
        "3. Compare the coefficients to the LDA weights."
      ],
      "metadata": {}
    },
    {
      "cell_type": "code",
      "source": [],
      "outputs": [],
      "execution_count": null,
      "metadata": {}
    }
  ],
  "metadata": {
    "kernelspec": {
      "display_name": "Python 3",
      "language": "python",
      "name": "python3"
    },
    "language_info": {
      "codemirror_mode": {
        "name": "ipython",
        "version": 3
      },
      "file_extension": ".py",
      "mimetype": "text/x-python",
      "name": "python",
      "nbconvert_exporter": "python",
      "pygments_lexer": "ipython3",
      "version": "3.7.4"
    },
    "nteract": {
      "version": "0.28.0"
    }
  },
  "nbformat": 4,
  "nbformat_minor": 4
}