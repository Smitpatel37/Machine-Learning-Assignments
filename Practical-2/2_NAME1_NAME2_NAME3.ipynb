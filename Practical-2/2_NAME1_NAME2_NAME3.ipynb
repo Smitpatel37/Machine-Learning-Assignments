{
  "cells": [
    {
      "cell_type": "markdown",
      "source": [
        "# Machine Learning - Practical 2\n",
        "\n",
        "Names: {YOUR NAMES}"
      ],
      "metadata": {
        "id": "PgfUDBI60aqF"
      }
    },
    {
      "cell_type": "code",
      "source": [
        "import pickle\n",
        "import numpy as np\n",
        "import pandas as pd\n",
        "from matplotlib import pyplot as plt\n",
        "from sklearn.linear_model import LogisticRegression"
      ],
      "outputs": [],
      "execution_count": 3,
      "metadata": {
        "id": "5a9h7uPr0aqH"
      }
    },
    {
      "cell_type": "markdown",
      "source": [
        "# Task 1: The Data\n",
        "\n",
        "We use the mouse protein expression dataset: https://archive.ics.uci.edu/ml/datasets/Mice+Protein+Expression\n",
        "Please use the code provided below for loading the dataset."
      ],
      "metadata": {
        "id": "cz-z2y9z0aqI"
      }
    },
    {
      "cell_type": "code",
      "source": [
        "file = 'data/Data_Cortex_Nuclear.csv'\n",
        "df = pd.read_csv(file)\n",
        "\n",
        "N = 10  # use only every tenth sample\n",
        "X_all = df.iloc[::N,1:65].to_numpy()\n",
        "t_all = (df['Behavior'] == 'S/C').to_numpy()[::N]\n",
        "\n",
        "idx = ~np.any(np.isnan(X_all), axis=1)\n",
        "X_all = X_all[idx]\n",
        "t_all = t_all[idx]"
      ],
      "outputs": [],
      "execution_count": 4,
      "metadata": {
        "id": "eJYASw2M0aqJ"
      }
    },
    {
      "cell_type": "markdown",
      "source": [
        "### Tasks 1.1: Dataset Exploration \n",
        "\n",
        "Let's start with a bit of exploration.\n",
        "\n",
        "- How many samples / features are provided?\n",
        "- How many labels does the dataset have?\n",
        "- What is the value range of the individuals predictors?\n",
        "- Visualize the 10 first samples of the dataset in a form that highlights their differences.\n",
        "- Visualize the variance of each predictor."
      ],
      "metadata": {
        "id": "HMcYkLab0aqK"
      }
    },
    {
      "cell_type": "code",
      "source": [
        "# data exploration\n",
        "df.iloc[::N,1:65].describe().iloc[[3,7]]"
      ],
      "outputs": [
        {
          "output_type": "execute_result",
          "data": {
            "text/plain": [
              "     DYRK1A_N   ITSN1_N    BDNF_N     NR1_N    NR2A_N    pAKT_N   pBRAF_N  \\\n",
              "min  0.168493  0.292269  0.198159  1.564858  1.991141  0.121545  0.124793   \n",
              "max  2.480316  2.488684  0.446958  3.174743  6.465180  0.327952  0.247874   \n",
              "\n",
              "     pCAMKII_N   pCREB_N    pELK_N  ...   ERBB4_N    nNOS_N     Tau_N  \\\n",
              "min   1.555075  0.134882  0.790958  ...  0.117840  0.114111  0.125190   \n",
              "max   7.464070  0.294838  4.497337  ...  0.199183  0.260739  0.567127   \n",
              "\n",
              "       GFAP_N   GluR3_N   GluR4_N    IL1B_N   P3525_N  pCASP9_N   PSD95_N  \n",
              "min  0.087666  0.129296  0.082373  0.296247  0.220444  0.971291  1.512936  \n",
              "max  0.155700  0.304341  0.187461  0.722240  0.356958  2.454891  2.793027  \n",
              "\n",
              "[2 rows x 64 columns]"
            ],
            "text/html": [
              "\n",
              "  <div id=\"df-6f7dc50d-0ed8-4436-8e1f-0856116bec23\">\n",
              "    <div class=\"colab-df-container\">\n",
              "      <div>\n",
              "<style scoped>\n",
              "    .dataframe tbody tr th:only-of-type {\n",
              "        vertical-align: middle;\n",
              "    }\n",
              "\n",
              "    .dataframe tbody tr th {\n",
              "        vertical-align: top;\n",
              "    }\n",
              "\n",
              "    .dataframe thead th {\n",
              "        text-align: right;\n",
              "    }\n",
              "</style>\n",
              "<table border=\"1\" class=\"dataframe\">\n",
              "  <thead>\n",
              "    <tr style=\"text-align: right;\">\n",
              "      <th></th>\n",
              "      <th>DYRK1A_N</th>\n",
              "      <th>ITSN1_N</th>\n",
              "      <th>BDNF_N</th>\n",
              "      <th>NR1_N</th>\n",
              "      <th>NR2A_N</th>\n",
              "      <th>pAKT_N</th>\n",
              "      <th>pBRAF_N</th>\n",
              "      <th>pCAMKII_N</th>\n",
              "      <th>pCREB_N</th>\n",
              "      <th>pELK_N</th>\n",
              "      <th>...</th>\n",
              "      <th>ERBB4_N</th>\n",
              "      <th>nNOS_N</th>\n",
              "      <th>Tau_N</th>\n",
              "      <th>GFAP_N</th>\n",
              "      <th>GluR3_N</th>\n",
              "      <th>GluR4_N</th>\n",
              "      <th>IL1B_N</th>\n",
              "      <th>P3525_N</th>\n",
              "      <th>pCASP9_N</th>\n",
              "      <th>PSD95_N</th>\n",
              "    </tr>\n",
              "  </thead>\n",
              "  <tbody>\n",
              "    <tr>\n",
              "      <th>min</th>\n",
              "      <td>0.168493</td>\n",
              "      <td>0.292269</td>\n",
              "      <td>0.198159</td>\n",
              "      <td>1.564858</td>\n",
              "      <td>1.991141</td>\n",
              "      <td>0.121545</td>\n",
              "      <td>0.124793</td>\n",
              "      <td>1.555075</td>\n",
              "      <td>0.134882</td>\n",
              "      <td>0.790958</td>\n",
              "      <td>...</td>\n",
              "      <td>0.117840</td>\n",
              "      <td>0.114111</td>\n",
              "      <td>0.125190</td>\n",
              "      <td>0.087666</td>\n",
              "      <td>0.129296</td>\n",
              "      <td>0.082373</td>\n",
              "      <td>0.296247</td>\n",
              "      <td>0.220444</td>\n",
              "      <td>0.971291</td>\n",
              "      <td>1.512936</td>\n",
              "    </tr>\n",
              "    <tr>\n",
              "      <th>max</th>\n",
              "      <td>2.480316</td>\n",
              "      <td>2.488684</td>\n",
              "      <td>0.446958</td>\n",
              "      <td>3.174743</td>\n",
              "      <td>6.465180</td>\n",
              "      <td>0.327952</td>\n",
              "      <td>0.247874</td>\n",
              "      <td>7.464070</td>\n",
              "      <td>0.294838</td>\n",
              "      <td>4.497337</td>\n",
              "      <td>...</td>\n",
              "      <td>0.199183</td>\n",
              "      <td>0.260739</td>\n",
              "      <td>0.567127</td>\n",
              "      <td>0.155700</td>\n",
              "      <td>0.304341</td>\n",
              "      <td>0.187461</td>\n",
              "      <td>0.722240</td>\n",
              "      <td>0.356958</td>\n",
              "      <td>2.454891</td>\n",
              "      <td>2.793027</td>\n",
              "    </tr>\n",
              "  </tbody>\n",
              "</table>\n",
              "<p>2 rows × 64 columns</p>\n",
              "</div>\n",
              "      <button class=\"colab-df-convert\" onclick=\"convertToInteractive('df-6f7dc50d-0ed8-4436-8e1f-0856116bec23')\"\n",
              "              title=\"Convert this dataframe to an interactive table.\"\n",
              "              style=\"display:none;\">\n",
              "        \n",
              "  <svg xmlns=\"http://www.w3.org/2000/svg\" height=\"24px\"viewBox=\"0 0 24 24\"\n",
              "       width=\"24px\">\n",
              "    <path d=\"M0 0h24v24H0V0z\" fill=\"none\"/>\n",
              "    <path d=\"M18.56 5.44l.94 2.06.94-2.06 2.06-.94-2.06-.94-.94-2.06-.94 2.06-2.06.94zm-11 1L8.5 8.5l.94-2.06 2.06-.94-2.06-.94L8.5 2.5l-.94 2.06-2.06.94zm10 10l.94 2.06.94-2.06 2.06-.94-2.06-.94-.94-2.06-.94 2.06-2.06.94z\"/><path d=\"M17.41 7.96l-1.37-1.37c-.4-.4-.92-.59-1.43-.59-.52 0-1.04.2-1.43.59L10.3 9.45l-7.72 7.72c-.78.78-.78 2.05 0 2.83L4 21.41c.39.39.9.59 1.41.59.51 0 1.02-.2 1.41-.59l7.78-7.78 2.81-2.81c.8-.78.8-2.07 0-2.86zM5.41 20L4 18.59l7.72-7.72 1.47 1.35L5.41 20z\"/>\n",
              "  </svg>\n",
              "      </button>\n",
              "      \n",
              "  <style>\n",
              "    .colab-df-container {\n",
              "      display:flex;\n",
              "      flex-wrap:wrap;\n",
              "      gap: 12px;\n",
              "    }\n",
              "\n",
              "    .colab-df-convert {\n",
              "      background-color: #E8F0FE;\n",
              "      border: none;\n",
              "      border-radius: 50%;\n",
              "      cursor: pointer;\n",
              "      display: none;\n",
              "      fill: #1967D2;\n",
              "      height: 32px;\n",
              "      padding: 0 0 0 0;\n",
              "      width: 32px;\n",
              "    }\n",
              "\n",
              "    .colab-df-convert:hover {\n",
              "      background-color: #E2EBFA;\n",
              "      box-shadow: 0px 1px 2px rgba(60, 64, 67, 0.3), 0px 1px 3px 1px rgba(60, 64, 67, 0.15);\n",
              "      fill: #174EA6;\n",
              "    }\n",
              "\n",
              "    [theme=dark] .colab-df-convert {\n",
              "      background-color: #3B4455;\n",
              "      fill: #D2E3FC;\n",
              "    }\n",
              "\n",
              "    [theme=dark] .colab-df-convert:hover {\n",
              "      background-color: #434B5C;\n",
              "      box-shadow: 0px 1px 3px 1px rgba(0, 0, 0, 0.15);\n",
              "      filter: drop-shadow(0px 1px 2px rgba(0, 0, 0, 0.3));\n",
              "      fill: #FFFFFF;\n",
              "    }\n",
              "  </style>\n",
              "\n",
              "      <script>\n",
              "        const buttonEl =\n",
              "          document.querySelector('#df-6f7dc50d-0ed8-4436-8e1f-0856116bec23 button.colab-df-convert');\n",
              "        buttonEl.style.display =\n",
              "          google.colab.kernel.accessAllowed ? 'block' : 'none';\n",
              "\n",
              "        async function convertToInteractive(key) {\n",
              "          const element = document.querySelector('#df-6f7dc50d-0ed8-4436-8e1f-0856116bec23');\n",
              "          const dataTable =\n",
              "            await google.colab.kernel.invokeFunction('convertToInteractive',\n",
              "                                                     [key], {});\n",
              "          if (!dataTable) return;\n",
              "\n",
              "          const docLinkHtml = 'Like what you see? Visit the ' +\n",
              "            '<a target=\"_blank\" href=https://colab.research.google.com/notebooks/data_table.ipynb>data table notebook</a>'\n",
              "            + ' to learn more about interactive tables.';\n",
              "          element.innerHTML = '';\n",
              "          dataTable['output_type'] = 'display_data';\n",
              "          await google.colab.output.renderOutput(dataTable, element);\n",
              "          const docLink = document.createElement('div');\n",
              "          docLink.innerHTML = docLinkHtml;\n",
              "          element.appendChild(docLink);\n",
              "        }\n",
              "      </script>\n",
              "    </div>\n",
              "  </div>\n",
              "  "
            ]
          },
          "metadata": {},
          "execution_count": 6
        }
      ],
      "execution_count": 6,
      "metadata": {
        "colab": {
          "base_uri": "https://localhost:8080/",
          "height": 205
        },
        "id": "XnHfUYAa0aqK",
        "outputId": "ddebbca0-4153-476c-9da5-c8dad0888b71"
      }
    },
    {
      "cell_type": "markdown",
      "source": [
        "**Task 1.2: Data Preprocessing**:  \n",
        "- Write a function `split_data(X, y, frac, seed)` that first shuffles your training data and then splits it into a training and a test set. `frac` determines the relative size of the test dataset, `seed` makes sure we get reproducible \n",
        "results.  \n",
        "- Write a function `preprocess(X)` which zero-centers your data and sets variance to one (per-feature)."
      ],
      "metadata": {
        "id": "x6hBYQa30aqL"
      }
    },
    {
      "cell_type": "code",
      "source": [
        "def split_data(X, y, frac=0.3, seed=None):\n",
        "    if seed is not None:\n",
        "        np.random.seed(seed)\n",
        "\n",
        "    # ---------------- INSERT CODE ----------------------\n",
        "    indices = np.random.choice( len(X), int((1-frac)*len(X)), replace=False )\n",
        "    X_train = X[indices]\n",
        "    y_train = y[indices]\n",
        "\n",
        "    indices = list((set(range(len(X))) - set(indices)))\n",
        "    X_test = X[indices]\n",
        "    y_test = y[indices]\n",
        "\n",
        "    # ---------------- END CODE -------------------------\n",
        "    \n",
        "    return X_train, X_test, y_train, y_test\n",
        "    \n",
        "    \n",
        "def preprocess(X, seed=None):\n",
        "    if seed is not None:\n",
        "        np.random.seed(seed)\n",
        "\n",
        "    # ---------------- INSERT CODE ----------------------\n",
        "    x_mean = X.mean(axis=0)\n",
        "    x_std = X.std(axis=0)\n",
        "    X = (X - x_mean) / x_std\n",
        "    # ---------------- END CODE -------------------------\n",
        "    \n",
        "    return X"
      ],
      "outputs": [],
      "execution_count": 43,
      "metadata": {
        "id": "Y5m26opV0aqM"
      }
    },
    {
      "cell_type": "code",
      "source": [
        "X_train, X_test, y_train, y_test = split_data(X_all, t_all)\n",
        "X_train = preprocess(X_train, 42)\n",
        "X_test = preprocess(X_test, 42)"
      ],
      "metadata": {
        "id": "1xPS_cG23q17"
      },
      "execution_count": 45,
      "outputs": []
    },
    {
      "cell_type": "markdown",
      "source": [
        "# Task 2: LDA\n",
        "\n",
        "First, use Linear Discriminant Analysis to separate the classes. As discussed in the Bishop in pg. 186-189, we can find a weight vector $\\vec{w}$ that performs a projection of the i-th input data point $\\vec{x}_i$\n",
        "\n",
        "$p =   \\vec{w}^T \\vec{x}_i$\n",
        "\n",
        "that optimally separates the classes.\n",
        "\n",
        "Use the analytic solution to compute the optimal weights $\\vec{w}$ from the training set data. \n",
        "\n",
        "### Task 2.1\n",
        "\n",
        "1. Implement a function `compute_lda_weights(x, y)` manually, which carries out LDA using the data `x,y`. \n",
        "2. Apply this function on your training data.\n",
        "3. Visualize the obtained weight vector $\\vec{w}$ using a `plt.stemplot`."
      ],
      "metadata": {
        "id": "uWvl4S1n0aqN"
      }
    },
    {
      "cell_type": "code",
      "source": [
        "# example usage of stemplot\n",
        "w_lda = np.random.uniform(-1, 1, 50)  # example data\n",
        "plt.stem(w_lda.flatten(), use_line_collection=True)\n",
        "plt.title('Computed LDA weights')\n",
        "plt.ylabel('weight')\n",
        "plt.xlabel('predictors')"
      ],
      "outputs": [],
      "execution_count": null,
      "metadata": {
        "id": "09KiV7an0aqN"
      }
    },
    {
      "cell_type": "code",
      "source": [
        "def compute_lda_weights(x, y, alpha=0.001):\n",
        "    '''function that computes regularized LDA weights for a two class problem\n",
        "\n",
        "    input:\n",
        "        x: training data -- array with shape (n_examples x n_features)\n",
        "        y: training data class label -- flat array with length (n_examples)\n",
        "        alpha: regularization strength -- float\n",
        "\n",
        "    output:\n",
        "        m0: mean of the training examples of class 0 -- flat array with length (n_features)\n",
        "        m1: mean of the training examples of class 1 -- flat array with length (n_features)\n",
        "        mdiff: difference of the two class means -- flat array with length (n_features)\n",
        "        w: regularized LDA weight vector -- flat array with length (n_features)\n",
        "        '''\n",
        "\n",
        "    # ---------------- INSERT CODE ----------------------\n",
        "\n",
        "\n",
        "\n",
        "    # ---------------- END CODE -------------------------\n",
        "\n",
        "    return m0, m1, mdiff, w"
      ],
      "outputs": [],
      "execution_count": null,
      "metadata": {
        "id": "MDTFu3G30aqO"
      }
    },
    {
      "cell_type": "code",
      "source": [
        "# split dataset and apply LDA\n"
      ],
      "outputs": [],
      "execution_count": null,
      "metadata": {
        "id": "5ZKs2YJa0aqP"
      }
    },
    {
      "cell_type": "code",
      "source": [
        "# visualize LDA weights using stemplot\n"
      ],
      "outputs": [],
      "execution_count": null,
      "metadata": {
        "id": "eKupHp2P0aqP"
      }
    },
    {
      "cell_type": "markdown",
      "source": [
        "### Task 2.2\n",
        "\n",
        "Project the training data and the test data on $\\vec{w}$. Visualize the class separation using a two-color histogram. \n",
        "- Is the class separation good?\n",
        "- Is there a big difference between training and test data?"
      ],
      "metadata": {
        "id": "f2uCTLy-0aqP"
      }
    },
    {
      "cell_type": "code",
      "source": [
        "# example usage of histogram\n",
        "a, b = np.random.normal(2, 1, 20), np.random.normal(0, 1, 20)  # example data\n",
        "\n",
        "plt.title('Training data projection')\n",
        "_ = plt.hist(a,label='class 0',alpha=0.5)\n",
        "_ = plt.hist(b,label='class 1',alpha=0.5)"
      ],
      "outputs": [],
      "execution_count": null,
      "metadata": {
        "id": "F8vqA4Cs0aqQ"
      }
    },
    {
      "cell_type": "code",
      "source": [
        "# compute projections for training and test data\n"
      ],
      "outputs": [],
      "execution_count": null,
      "metadata": {
        "id": "hN0sRtpc0aqQ"
      }
    },
    {
      "cell_type": "code",
      "source": [
        "# visualize projections using histogram\n"
      ],
      "outputs": [],
      "execution_count": null,
      "metadata": {
        "id": "-Djm9oQX0aqQ"
      }
    },
    {
      "cell_type": "markdown",
      "source": [
        "### Task 2.3\n",
        "\n",
        "Now we make class predictions based on the projections. Read https://en.wikipedia.org/wiki/Linear_discriminant_analysis#Fisher's_linear_discriminant and compute threshold $c$ for the projected values $p$ based on the training data. Print the value of $c$ and plot $c$ into the histograms of projected values you made before!\n",
        "\n",
        "Use $c$ to assign class labels for training and test set. Determine the classification errors (in terms of accuracy) on both datasets and print them. "
      ],
      "metadata": {
        "id": "FwgHcNXM0aqR"
      }
    },
    {
      "cell_type": "code",
      "source": [
        "def compute_threshold_LDA(m0, m1, w):\n",
        "    '''Compute the optimal threshold for LDA .\n",
        "\n",
        "    input:\n",
        "        m0, m1: mean vectors of the two classes -- flat array with length (n_features)\n",
        "        w: weight vector of LDA -- flat array with length (n_features)\n",
        "\n",
        "    output:\n",
        "        c: the optimal threshold for LDA \n",
        "    '''\n",
        "\n",
        "    # ---------------- INSERT CODE ----------------------\n",
        "\n",
        "\n",
        "\n",
        "    # ---------------- END CODE -------------------------\n",
        "  \n",
        "    return c\n",
        "\n",
        "\n",
        "def score_LDA(x_proj, y, c):\n",
        "    '''Compute the accuracy given a threshold.\n",
        "\n",
        "    input:\n",
        "        x_proj: projected data -- flat array with length (n_examples)    \n",
        "        y: class labels -- flat array with length (n_examples)\n",
        "        c: optimal threshold for LDA - scalar\n",
        "\n",
        "    output:\n",
        "        y_hat: class label predicitons of LDA model -- flat array with length (n_examples)\n",
        "        acc: classification accuracy\n",
        "    '''\n",
        "    # ---------------- INSERT CODE ----------------------\n",
        "\n",
        "\n",
        "\n",
        "    # ---------------- END CODE -------------------------\n",
        "    \n",
        "    return y_hat, acc"
      ],
      "outputs": [],
      "execution_count": null,
      "metadata": {
        "id": "hojacNJg0aqR"
      }
    },
    {
      "cell_type": "code",
      "source": [
        "# compute optimal threshold\n"
      ],
      "outputs": [],
      "execution_count": null,
      "metadata": {
        "id": "tNNNFM5J0aqR"
      }
    },
    {
      "cell_type": "code",
      "source": [
        "# compute classification accuracy\n"
      ],
      "outputs": [],
      "execution_count": null,
      "metadata": {
        "id": "tIqQj4Dh0aqS"
      }
    },
    {
      "cell_type": "code",
      "source": [
        "# visualize treshold in histogram\n"
      ],
      "outputs": [],
      "execution_count": null,
      "metadata": {
        "id": "laYyneLT0aqS"
      }
    },
    {
      "cell_type": "markdown",
      "source": [
        "## Task 3: Logistic Regression\n",
        "\n",
        "Next, we will consider classification using Logistic Regression. \n",
        "\n",
        "For this task, we will use a different dataset:  \n",
        "It consists of activations from a convolutional neural network (ResNet18) for images of cats and dogs.\n",
        "The dataset contains 2,000 samples (i.e. CNN activations) and 256 features (i.e. the CNN activations have 256 dimensions). A target value of 0 indicates a cat, 1 a dog.\n",
        "\n",
        "Below, you find all imports that are necessary.\n"
      ],
      "metadata": {
        "id": "GpHdAVaZ0aqS"
      }
    },
    {
      "cell_type": "code",
      "source": [
        "X_all, t_all = pickle.load(open('data/cnn_features.pickle', 'rb'))"
      ],
      "outputs": [],
      "execution_count": null,
      "metadata": {
        "id": "JblpGcNn0aqT"
      }
    },
    {
      "cell_type": "markdown",
      "source": [
        "### Task 3.0: Normalize and split the data\n",
        "\n",
        "Make sure the data has has zero mean and variance 1 per feature."
      ],
      "metadata": {
        "id": "OPjKH3Yj0aqT"
      }
    },
    {
      "cell_type": "code",
      "source": [
        "# normalize data\n"
      ],
      "outputs": [],
      "execution_count": null,
      "metadata": {
        "id": "vBoqlzpT0aqT"
      }
    },
    {
      "cell_type": "markdown",
      "source": [
        "### Task 3.1: Iterative Reweighted Least Squares**\n",
        "\n",
        "1. Implement the IRLS algorithm and output at each iteration the current training accuracy. Remember the weight are updated according to:\n",
        "$$ w' = w - ( \\Phi^T R \\Phi ) ^ {-1} \\Phi^T (y - t)$$\n",
        "where $y$ is the prediction, $t$ the ground truth target, $R$ the weighting matrix and $\\Phi$ the design matrix.  \n",
        "\n",
        "    Hints:  \n",
        "    (a) There is a bias term in logistic regression  \n",
        "    (b) Use a small value for weight init to avoid numerical problems.\n",
        "\n",
        "\n",
        "2. Apply the IRLS algorithm on data and compute the test accuracy.\n",
        "3. Compare the results of your implementation to the sklearn implementation of `LogisticRegression(penalty='none')`. Do you get the same result?"
      ],
      "metadata": {
        "id": "QtdVuU2h0aqT"
      }
    },
    {
      "cell_type": "code",
      "source": [
        "# IRLS\n"
      ],
      "outputs": [],
      "execution_count": null,
      "metadata": {
        "id": "77e0Fq830aqT"
      }
    },
    {
      "cell_type": "markdown",
      "source": [
        "### Task 3.2: Logistic Regression with Regularization\n",
        "\n",
        "1. Set sklearn's penalty parameter to `l1` and `l2`. Use the range `np.linspace(0.02, 1, 25)` for the parameter `C`, which controls the strength of regularization. Where is the regularization strongest, for small or big `C`?   \n",
        "Hint: For `l1` regularization you can use the `saga` solver.\n",
        "2. Plot strength of regularization over accuracy. Does regularization improve the scores?\n",
        "3. Visualize the coefficients (or just a subset of all coefficient for a better overview) of the regularized settings and the unregularized setting. What do you observe?\n",
        "3. Compare the coefficients to the LDA weights."
      ],
      "metadata": {
        "id": "7r3ZOKUl0aqU"
      }
    },
    {
      "cell_type": "code",
      "source": [
        ""
      ],
      "outputs": [],
      "execution_count": null,
      "metadata": {
        "id": "BzRgMFg80aqU"
      }
    }
  ],
  "metadata": {
    "kernelspec": {
      "display_name": "Python 3",
      "language": "python",
      "name": "python3"
    },
    "language_info": {
      "codemirror_mode": {
        "name": "ipython",
        "version": 3
      },
      "file_extension": ".py",
      "mimetype": "text/x-python",
      "name": "python",
      "nbconvert_exporter": "python",
      "pygments_lexer": "ipython3",
      "version": "3.7.4"
    },
    "nteract": {
      "version": "0.28.0"
    },
    "colab": {
      "name": "2_NAME1_NAME2_NAME3.ipynb",
      "provenance": [],
      "collapsed_sections": []
    }
  },
  "nbformat": 4,
  "nbformat_minor": 0
}