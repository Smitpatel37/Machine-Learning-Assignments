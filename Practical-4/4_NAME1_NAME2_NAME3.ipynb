{
  "cells": [
    {
      "cell_type": "markdown",
      "metadata": {
        "id": "r8cNuSNRK1_u"
      },
      "source": [
        "# Machine Learning - Practical 4\n",
        "\n",
        "Names: Smit Patel, Nishtha Agarwal, Daria Bilich"
      ]
    },
    {
      "cell_type": "code",
      "execution_count": null,
      "metadata": {
        "id": "_JoO-ns0K1_y"
      },
      "outputs": [],
      "source": [
        "import numpy as np\n",
        "import cvxopt\n",
        "from matplotlib import pyplot as plt\n",
        "from sklearn.svm import SVC\n",
        "from sklearn.datasets import load_wine\n",
        "from sklearn.tree import DecisionTreeClassifier"
      ]
    },
    {
      "cell_type": "markdown",
      "metadata": {
        "id": "vVSjlv7DK1_0"
      },
      "source": [
        "## Task 0: The Data\n",
        "\n",
        "We will work with the data from Practical 3. Load the data and split it into a training and test set. You can re-use the data splitting function from Practical 2."
      ]
    },
    {
      "cell_type": "code",
      "execution_count": null,
      "metadata": {
        "id": "QU_2z1A0K1_1"
      },
      "outputs": [],
      "source": [
        "def split_data(X, y, frac=0.3, seed=None):\n",
        "    if seed is not None:\n",
        "        np.random.seed(seed)\n",
        "        \n",
        "    # ---------------- INSERT CODE ----------------------\n",
        "    indices = np.random.choice( len(X), int((1-frac)*len(X)), replace=False )\n",
        "    X_train = X[indices]\n",
        "    y_train = y[indices]\n",
        "\n",
        "    indices = list((set(range(len(X))) - set(indices)))\n",
        "    X_test = X[indices]\n",
        "    y_test = y[indices]\n",
        "\n",
        "    # ---------------- END CODE -------------------------\n",
        "    \n",
        "    return X_train, X_test, y_train, y_test"
      ]
    },
    {
      "cell_type": "code",
      "execution_count": null,
      "metadata": {
        "id": "FOXPPvn3K1_1"
      },
      "outputs": [],
      "source": [
        "# load data\n",
        "X_2d, t_2d = np.load('nonlin_2d_data.npy')[:,:2], np.load('nonlin_2d_data.npy')[:, 2]"
      ]
    },
    {
      "cell_type": "code",
      "execution_count": 17,
      "metadata": {
        "id": "9VJn5BtGK1_2"
      },
      "outputs": [],
      "source": [
        "# split data\n",
        "X_train, X_test, t_train, t_test = split_data(X_2d, t_2d, seed=1)"
      ]
    },
    {
      "cell_type": "markdown",
      "metadata": {
        "id": "WN1BnevTK1_2"
      },
      "source": [
        "## Task 1: Support Vector Machines\n",
        "\n",
        "First, you will implement a training algorithm for the Support Vector Machine (SVM). For solving the quadratic program, we provide a simple interface to the cvxopt library below."
      ]
    },
    {
      "cell_type": "markdown",
      "metadata": {
        "id": "Ure7lqDtK1_3"
      },
      "source": [
        "In SVMs, each data sample $x_n$ has a corresponding lagrange multiplier $\\alpha_n$ which indicates if $x_n$ is a support vector. In the latter case $\\alpha_n > 0$ holds. \n",
        "The goal of learning the SVM is to figure out which samples are support vectors by learning $\\mathbf{\\alpha}$. The dual SVM optimizes the following quadratic program.\n",
        "\n",
        "$$ \\min \\frac{1}{2} \\sum_{n=1}^N \\sum_{m=1}^N \\alpha_n \\alpha_m t_n t_m k(\\mathbf{x}_n, \\mathbf{x}_m) - \\sum_{n=1}^N \\alpha_n$$\n",
        "subject to \n",
        "$$ 0 \\leq \\alpha_n \\leq C $$\n",
        "$$ \\sum_{n=1}^N \\alpha_n t_n = 0 $$ \n",
        "\n",
        "The quadratic program solver expects the following form:\n",
        "$$ \\min \\frac{1}{2} \\alpha^T P \\alpha + \\mathbf q^T \\mathbf \\alpha $$\n",
        "subject to \n",
        "\n",
        "$$A \\alpha = b$$\n",
        "$$G \\alpha \\leq h $$\n",
        "\n",
        "Here, $A$ and $G$ are matrices with one row per individual constraint. Similarly, $b$ (the intercept or bias) and $h$ are vectors with one element per individual constraint.\n",
        "\n",
        "Having trained the SVM, a prediction for an input $\\mathbf{x}$ is made by:\n",
        "\n",
        "$$ y = sign([\\sum_n^{N} \\alpha_n t_n k(\\mathbf{x}, \\mathbf{x}_n)] + b)  $$\n",
        "\n",
        "\n",
        "### Task 1.1\n",
        " \n",
        "Use the code provided below as a basis to express the constrained optimization problem in terms of $P, q, A, b, G$ and $h$ and implement a function `fit_svm` which passes these variables to the provided QP solver. Fit a SVM on the training data and extract its parameters using a linear kernel (dot product).\n",
        "\n",
        "**Hints:**\n",
        "  - The box constraint $0 \\leq \\alpha_n \\leq C$ defines two constraints of the form $G \\alpha_n \\leq h$ for each $\\alpha_n$.\n",
        "  - The inequality $x \\geq 0$ is equivalent to $-x \\leq 0$.\n",
        "  - The SVM is described in chapter 12 of Elements of Statistical Learning."
      ]
    },
    {
      "cell_type": "code",
      "source": [
        "#testing rbf-smit\n",
        "np.linalg.norm(X_train[0]-X_train[1])"
      ],
      "metadata": {
        "colab": {
          "base_uri": "https://localhost:8080/"
        },
        "id": "DSZm31z3yY-N",
        "outputId": "366908f9-f35b-4b2b-d059-8c69005e7980"
      },
      "execution_count": 18,
      "outputs": [
        {
          "output_type": "execute_result",
          "data": {
            "text/plain": [
              "2.9490544728409547"
            ]
          },
          "metadata": {},
          "execution_count": 18
        }
      ]
    },
    {
      "cell_type": "code",
      "source": [
        "def linear_kernel(a, b):\n",
        "    # ---------------- INSERT CODE ----------------------\n",
        "\n",
        "    return np.dot(a,b)\n",
        "\n",
        "    # ---------------- END CODE -------------------------\n",
        "\n",
        "\n",
        "def fit_svm(X, t, kernel, C=1.0):\n",
        "  '''Fit SVM using data (X,t), specified kernel and parameter C.\n",
        "  Inputs\n",
        "        X:  predictors\n",
        "        t:  targets\n",
        "        C:  constant\n",
        "  '''\n",
        "\n",
        "  t = np.array([-1 if l == 0 else 1 for l in t])\n",
        "  kernel_mt = np.zeros((len(X), len(X)))\n",
        "  for i in range(len(X)):\n",
        "    for j in range(len(X)):\n",
        "      kernel_mt[i, j] = kernel(X[i], X[j])\n",
        "  n_samples = len(X)\n",
        "  # ---------------- INSERT CODE ----------------------\n",
        "  P = cvxopt.matrix(np.outer(t, t) * kernel_mt)\n",
        "  q = cvxopt.matrix(np.ones(len(X)) * -1)\n",
        "  A = cvxopt.matrix(t, (1, len(X)), tc='d')\n",
        "  b = cvxopt.matrix(0, tc='d')\n",
        "  G = cvxopt.matrix(np.vstack((np.identity(n_samples) * -1,  np.identity(n_samples))))\n",
        "  h = cvxopt.matrix(np.vstack((cvxopt.matrix(np.zeros(n_samples)), cvxopt.matrix(np.ones(n_samples) * C))))\n",
        "  # ---------------- END CODE -------------------------\n",
        "  \n",
        "  assert P.size == (len(X), len(X))\n",
        "  assert len(q) == len(X)\n",
        "  assert A.size == (1, n_samples)\n",
        "  assert b.size == (1, 1)\n",
        "  #assert len(G) == 2 * len(X)\n",
        "  assert len(h) == 2 * len(X)\n",
        "\n",
        "  return solve_quadratic_program(P, q, A, b, G, h)\n",
        "\n",
        "def solve_quadratic_program(P, q, A, b, G, h):\n",
        "    '''Uses cvxopt to solve the quadratic program.'''\n",
        "    P, q, A, b, G, h = [cvxopt.matrix(var) for var in [P, q, A, b, G, h]]\n",
        "    minimization = cvxopt.solvers.qp(P, q, G, h, A, b)\n",
        "    lagr_mult = np.ravel(minimization['x'])\n",
        "    return lagr_mult\n",
        "\n",
        "\n",
        "def extract_parameters(X, t, lagr_mult,kernel, threshold=1e-7):\n",
        "    '''Computes the intercept from the support vector constraints.\n",
        "    \n",
        "    Inputs\n",
        "        X:         predictors\n",
        "        t:         targets\n",
        "        kernel:    a kernel to be used\n",
        "        lagr_mult: the Lagrange multipliers obtained by solving the dual QP\n",
        "        threshold: threshold for choosing support vectors\n",
        "    \n",
        "    Returns\n",
        "        lagr_mult: lagrange multipliers for the support vectors\n",
        "        svs:       set of support vectors\n",
        "        sv_labels: targets t_n for the support vectors\n",
        "        intercept: computed intercept (also called bias)\n",
        "    '''\n",
        "    t = np.array([-1 if l == 0 else 1 for l in t])\n",
        "    \n",
        "    # ---------------- INSERT CODE ----------------------\n",
        "    lagr_mult1 = lagr_mult[lagr_mult > threshold]\n",
        "    svs = X[lagr_mult > threshold]\n",
        "    sv_labels = t[lagr_mult > threshold]\n",
        "    intercept = sv_labels[0]\n",
        "    for i in range(len(lagr_mult1)):\n",
        "      intercept -= lagr_mult1[i] * sv_labels[i] * kernel(svs[i], svs[0])\n",
        "    # ---------------- END CODE -------------------------\n",
        "\n",
        "    return lagr_mult1, svs, sv_labels, intercept"
      ],
      "metadata": {
        "id": "FBIL6FHWscUS"
      },
      "execution_count": 55,
      "outputs": []
    },
    {
      "cell_type": "code",
      "execution_count": 56,
      "metadata": {
        "id": "p1-u_V0cK1_5",
        "colab": {
          "base_uri": "https://localhost:8080/"
        },
        "outputId": "c1ec6786-932e-4673-bfd9-6dc4f235d8b0"
      },
      "outputs": [
        {
          "output_type": "stream",
          "name": "stdout",
          "text": [
            "     pcost       dcost       gap    pres   dres\n",
            " 0: -1.6611e+02 -3.8981e+02  1e+03  2e+00  3e-14\n",
            " 1: -1.2559e+02 -2.6081e+02  1e+02  8e-15  2e-14\n",
            " 2: -1.3748e+02 -1.5048e+02  1e+01  5e-15  1e-14\n",
            " 3: -1.3799e+02 -1.3813e+02  1e-01  2e-15  1e-14\n",
            " 4: -1.3800e+02 -1.3800e+02  1e-03  4e-15  1e-14\n",
            " 5: -1.3800e+02 -1.3800e+02  1e-05  4e-15  2e-14\n",
            "Optimal solution found.\n"
          ]
        }
      ],
      "source": [
        "# Training\n",
        "# Fit SVM on training data\n",
        "lagr_mult = fit_svm(X_train, t_train, kernel=linear_kernel, C=1.0)\n",
        "\n",
        "# Extract parameters\n",
        "lagr_mul, svs,sv_labels,intercept = extract_parameters(X_train, t_train,lagr_mult=lagr_mult, kernel=linear_kernel)"
      ]
    },
    {
      "cell_type": "markdown",
      "metadata": {
        "id": "cgOfLoYFK1_6"
      },
      "source": [
        "### Task 1.2\n",
        "\n",
        "Having learnt an SVM, we can use the calculated parameters to make predictions on novel samples.\n",
        "- Implement a function `svm_predict(X, kernel, lagr_mult, svs, sv_labels, intercept)`.\n",
        "- Use this function with the linear kernel and compute the test accuracy on the 2d dataset.\n",
        "- Visualize the samples form the test set in a scatter plot colored by your predictions"
      ]
    },
    {
      "cell_type": "code",
      "execution_count": 57,
      "metadata": {
        "tags": [],
        "id": "eDzdZRBiK1_6"
      },
      "outputs": [],
      "source": [
        "def svm_predict(X, lagr_mult, svs, sv_labels, intercept, kernel):\n",
        "    ''' Given the learned parameters of the SVM, make a prediction on the test set.\n",
        "    Inputs\n",
        "        X:         predictors\n",
        "        kernel:    a kernel to be used\n",
        "        lagr_mult: the Lagrange multipliers obtained by solving the dual QP\n",
        "        svs:       set of support vectors\n",
        "        sv_labels: targets t_n for the support vectors\n",
        "        intercept: computed intercept (also called bias)\n",
        "    \n",
        "    Returns\n",
        "        prediction: predictions on novel samples\n",
        "    '''  \n",
        "    \n",
        "    # ---------------- INSERT CODE ----------------------\n",
        "    n_samples = len(X)\n",
        "    prediction = []\n",
        "    for sample in X:\n",
        "      pred = 0\n",
        "      for i in range(len(lagr_mult)):\n",
        "        pred += lagr_mult[i] * sv_labels[i] * kernel(svs[i], sample)\n",
        "      pred += intercept\n",
        "      prediction.append(np.sign(pred))\n",
        "\n",
        "    # ---------------- END CODE -------------------------\n",
        "    \n",
        "    return prediction"
      ]
    },
    {
      "cell_type": "code",
      "execution_count": 58,
      "metadata": {
        "id": "KbdcY5PvK1_7"
      },
      "outputs": [],
      "source": [
        "# Testing\n",
        "# make predictions for test set\n",
        "y_pred = svm_predict(X_test,lagr_mul, svs, sv_labels,intercept, kernel=linear_kernel)"
      ]
    },
    {
      "cell_type": "code",
      "source": [
        "plt.scatter(svs[:,0],svs[:,1],c=sv_labels)"
      ],
      "metadata": {
        "colab": {
          "base_uri": "https://localhost:8080/",
          "height": 282
        },
        "id": "7o46K1oxvgpR",
        "outputId": "be731514-a65f-4e3c-dd88-8d873cadef38"
      },
      "execution_count": 59,
      "outputs": [
        {
          "output_type": "execute_result",
          "data": {
            "text/plain": [
              "<matplotlib.collections.PathCollection at 0x7f74ff19ed90>"
            ]
          },
          "metadata": {},
          "execution_count": 59
        },
        {
          "output_type": "display_data",
          "data": {
            "text/plain": [
              "<Figure size 432x288 with 1 Axes>"
            ],
            "image/png": "[encoded data removed]"
          },
          "metadata": {
            "needs_background": "light"
          }
        }
      ]
    },
    {
      "cell_type": "code",
      "source": [
        "plt.scatter(range(len(y_pred)),y_pred)\n",
        "plt.scatter(range(len(y_pred)),t_test)"
      ],
      "metadata": {
        "colab": {
          "base_uri": "https://localhost:8080/",
          "height": 282
        },
        "id": "8GvXsVtJv7tj",
        "outputId": "3dca22f0-c7ca-4e61-c8f8-f0ac1df989d6"
      },
      "execution_count": 61,
      "outputs": [
        {
          "output_type": "execute_result",
          "data": {
            "text/plain": [
              "<matplotlib.collections.PathCollection at 0x7f74ff0b8c90>"
            ]
          },
          "metadata": {},
          "execution_count": 61
        },
        {
          "output_type": "display_data",
          "data": {
            "text/plain": [
              "<Figure size 432x288 with 1 Axes>"
            ],
            "image/png": "[encoded data removed]"
          },
          "metadata": {
            "needs_background": "light"
          }
        }
      ]
    },
    {
      "cell_type": "code",
      "execution_count": 35,
      "metadata": {
        "id": "zmeCJE0tK1_7",
        "colab": {
          "base_uri": "https://localhost:8080/"
        },
        "outputId": "f31f3674-8f1b-4992-ac8c-e24ec6e78e05"
      },
      "outputs": [
        {
          "output_type": "execute_result",
          "data": {
            "text/plain": [
              "([-1.0,\n",
              "  -1.0,\n",
              "  -1.0,\n",
              "  -1.0,\n",
              "  -1.0,\n",
              "  -1.0,\n",
              "  -1.0,\n",
              "  -1.0,\n",
              "  -1.0,\n",
              "  -1.0,\n",
              "  -1.0,\n",
              "  -1.0,\n",
              "  -1.0,\n",
              "  -1.0,\n",
              "  -1.0,\n",
              "  -1.0,\n",
              "  -1.0,\n",
              "  -1.0,\n",
              "  -1.0,\n",
              "  -1.0,\n",
              "  -1.0,\n",
              "  -1.0,\n",
              "  -1.0,\n",
              "  -1.0,\n",
              "  -1.0,\n",
              "  -1.0,\n",
              "  -1.0,\n",
              "  -1.0,\n",
              "  -1.0,\n",
              "  -1.0,\n",
              "  -1.0,\n",
              "  -1.0,\n",
              "  -1.0,\n",
              "  -1.0,\n",
              "  -1.0,\n",
              "  -1.0,\n",
              "  -1.0,\n",
              "  -1.0,\n",
              "  -1.0,\n",
              "  -1.0,\n",
              "  -1.0,\n",
              "  -1.0,\n",
              "  -1.0,\n",
              "  -1.0,\n",
              "  -1.0,\n",
              "  -1.0,\n",
              "  -1.0,\n",
              "  -1.0,\n",
              "  -1.0,\n",
              "  -1.0,\n",
              "  -1.0,\n",
              "  -1.0,\n",
              "  -1.0,\n",
              "  -1.0,\n",
              "  -1.0,\n",
              "  -1.0,\n",
              "  -1.0,\n",
              "  -1.0,\n",
              "  -1.0,\n",
              "  -1.0,\n",
              "  -1.0,\n",
              "  -1.0,\n",
              "  -1.0,\n",
              "  -1.0,\n",
              "  -1.0,\n",
              "  -1.0,\n",
              "  -1.0,\n",
              "  -1.0,\n",
              "  -1.0,\n",
              "  -1.0,\n",
              "  -1.0,\n",
              "  -1.0,\n",
              "  -1.0,\n",
              "  -1.0,\n",
              "  -1.0],\n",
              " array([1., 0., 1., 0., 1., 1., 1., 0., 0., 0., 1., 1., 1., 1., 1., 0., 1.,\n",
              "        1., 1., 0., 1., 0., 0., 0., 0., 1., 1., 1., 0., 0., 0., 0., 1., 0.,\n",
              "        0., 1., 0., 0., 0., 0., 0., 0., 1., 1., 0., 1., 0., 0., 1., 1., 0.,\n",
              "        1., 1., 0., 0., 1., 1., 1., 0., 1., 1., 1., 1., 0., 1., 1., 1., 1.,\n",
              "        1., 1., 1., 1., 1., 1., 1.]))"
            ]
          },
          "metadata": {},
          "execution_count": 35
        }
      ],
      "source": [
        "# visualize predictions\n",
        "y_pred, t_test"
      ]
    },
    {
      "cell_type": "markdown",
      "metadata": {
        "id": "ZeTyevkWK1_8"
      },
      "source": [
        "### Task 1.3\n",
        "\n",
        "- Instead of using the linear kernel, use the Gaussian RBF kernel defined in Practical 3.\n",
        "- Compare results on with both kernels with sklearn implementation (SVC)\n",
        "- Visualize the predictions on the test set, the learned support vectors and the decision boundary for both kernels (Hint: Adapt the decision boundary plot from Practical 3)."
      ]
    },
    {
      "cell_type": "code",
      "execution_count": 63,
      "metadata": {
        "id": "1up7EfAHK1_8"
      },
      "outputs": [],
      "source": [
        "def rbf_kernel(a, b):\n",
        "    # ---------------- INSERT CODE ----------------------\n",
        "    return np.exp(np.power(np.linalg.norm(a- b),2)*-1)\n",
        "    # ---------------- END CODE -------------------------"
      ]
    },
    {
      "cell_type": "code",
      "execution_count": 70,
      "metadata": {
        "id": "JIxzxLNzK1_8",
        "colab": {
          "base_uri": "https://localhost:8080/"
        },
        "outputId": "5cc884aa-3a08-490c-b168-ab90d8e3b656"
      },
      "outputs": [
        {
          "output_type": "stream",
          "name": "stdout",
          "text": [
            "     pcost       dcost       gap    pres   dres\n",
            " 0: -7.7018e+00 -2.6272e+02  1e+03  2e+00  5e-16\n",
            " 1: -2.6542e+00 -1.1766e+02  1e+02  2e-15  6e-16\n",
            " 2: -8.3809e+00 -2.1823e+01  1e+01  1e-15  6e-16\n",
            " 3: -9.9541e+00 -1.4530e+01  5e+00  3e-16  3e-16\n",
            " 4: -1.0601e+01 -1.1741e+01  1e+00  3e-16  3e-16\n",
            " 5: -1.0840e+01 -1.1127e+01  3e-01  1e-15  3e-16\n",
            " 6: -1.0903e+01 -1.0986e+01  8e-02  2e-16  3e-16\n",
            " 7: -1.0927e+01 -1.0941e+01  1e-02  6e-16  3e-16\n",
            " 8: -1.0932e+01 -1.0933e+01  2e-03  2e-16  3e-16\n",
            " 9: -1.0932e+01 -1.0932e+01  3e-05  6e-16  3e-16\n",
            "10: -1.0932e+01 -1.0932e+01  3e-07  9e-16  4e-16\n",
            "Optimal solution found.\n"
          ]
        }
      ],
      "source": [
        "# Fit SVM with rbf kernel and calculate the test accuracy\n",
        "lagr_mult = fit_svm(X_train, t_train, kernel=rbf_kernel, C=1.0)\n",
        "lagr_mul, svs,sv_labels,intercept = extract_parameters(X_train, t_train,lagr_mult=lagr_mult, kernel=rbf_kernel)\n",
        "y_pred_1 = svm_predict(X_test,lagr_mul, svs, sv_labels,intercept, kernel=rbf_kernel)"
      ]
    },
    {
      "cell_type": "code",
      "source": [
        "plt.scatter(svs[:,0],svs[:,1],c=sv_labels)"
      ],
      "metadata": {
        "colab": {
          "base_uri": "https://localhost:8080/",
          "height": 282
        },
        "id": "ky5WaVpBuvxZ",
        "outputId": "4eaa0018-01e6-492d-da21-d0215312014e"
      },
      "execution_count": 71,
      "outputs": [
        {
          "output_type": "execute_result",
          "data": {
            "text/plain": [
              "<matplotlib.collections.PathCollection at 0x7f74fee11cd0>"
            ]
          },
          "metadata": {},
          "execution_count": 71
        },
        {
          "output_type": "display_data",
          "data": {
            "text/plain": [
              "<Figure size 432x288 with 1 Axes>"
            ],
            "image/png": "[encoded data removed]"
          },
          "metadata": {
            "needs_background": "light"
          }
        }
      ]
    },
    {
      "cell_type": "code",
      "source": [
        "plt.scatter(range(len(y_pred_1)),y_pred_1,alpha=0.5)\n",
        "plt.scatter(range(len(y_pred_1)),t_test,alpha=0.5)"
      ],
      "metadata": {
        "colab": {
          "base_uri": "https://localhost:8080/",
          "height": 282
        },
        "id": "oqxtqPeQwbwf",
        "outputId": "fac18858-fa88-4428-de05-0486a2566504"
      },
      "execution_count": 68,
      "outputs": [
        {
          "output_type": "execute_result",
          "data": {
            "text/plain": [
              "<matplotlib.collections.PathCollection at 0x7f74fee58c50>"
            ]
          },
          "metadata": {},
          "execution_count": 68
        },
        {
          "output_type": "display_data",
          "data": {
            "text/plain": [
              "<Figure size 432x288 with 1 Axes>"
            ],
            "image/png": "[encoded data removed]"
          },
          "metadata": {
            "needs_background": "light"
          }
        }
      ]
    },
    {
      "cell_type": "code",
      "execution_count": 40,
      "metadata": {
        "id": "1BzUVnbIK1_9",
        "colab": {
          "base_uri": "https://localhost:8080/"
        },
        "outputId": "85ddfc55-c85d-45c2-efbb-92f8349942ac"
      },
      "outputs": [
        {
          "output_type": "execute_result",
          "data": {
            "text/plain": [
              "([1.0,\n",
              "  -1.0,\n",
              "  1.0,\n",
              "  -1.0,\n",
              "  1.0,\n",
              "  1.0,\n",
              "  1.0,\n",
              "  -1.0,\n",
              "  -1.0,\n",
              "  -1.0,\n",
              "  1.0,\n",
              "  1.0,\n",
              "  1.0,\n",
              "  1.0,\n",
              "  1.0,\n",
              "  -1.0,\n",
              "  1.0,\n",
              "  1.0,\n",
              "  1.0,\n",
              "  -1.0,\n",
              "  1.0,\n",
              "  -1.0,\n",
              "  -1.0,\n",
              "  -1.0,\n",
              "  -1.0,\n",
              "  1.0,\n",
              "  1.0,\n",
              "  1.0,\n",
              "  -1.0,\n",
              "  -1.0,\n",
              "  -1.0,\n",
              "  -1.0,\n",
              "  1.0,\n",
              "  -1.0,\n",
              "  -1.0,\n",
              "  1.0,\n",
              "  -1.0,\n",
              "  -1.0,\n",
              "  -1.0,\n",
              "  -1.0,\n",
              "  -1.0,\n",
              "  -1.0,\n",
              "  1.0,\n",
              "  1.0,\n",
              "  -1.0,\n",
              "  1.0,\n",
              "  -1.0,\n",
              "  -1.0,\n",
              "  1.0,\n",
              "  1.0,\n",
              "  -1.0,\n",
              "  1.0,\n",
              "  1.0,\n",
              "  -1.0,\n",
              "  -1.0,\n",
              "  1.0,\n",
              "  1.0,\n",
              "  1.0,\n",
              "  -1.0,\n",
              "  1.0,\n",
              "  1.0,\n",
              "  1.0,\n",
              "  1.0,\n",
              "  -1.0,\n",
              "  1.0,\n",
              "  1.0,\n",
              "  1.0,\n",
              "  1.0,\n",
              "  1.0,\n",
              "  1.0,\n",
              "  1.0,\n",
              "  1.0,\n",
              "  1.0,\n",
              "  1.0,\n",
              "  1.0],\n",
              " array([1., 0., 1., 0., 1., 1., 1., 0., 0., 0., 1., 1., 1., 1., 1., 0., 1.,\n",
              "        1., 1., 0., 1., 0., 0., 0., 0., 1., 1., 1., 0., 0., 0., 0., 1., 0.,\n",
              "        0., 1., 0., 0., 0., 0., 0., 0., 1., 1., 0., 1., 0., 0., 1., 1., 0.,\n",
              "        1., 1., 0., 0., 1., 1., 1., 0., 1., 1., 1., 1., 0., 1., 1., 1., 1.,\n",
              "        1., 1., 1., 1., 1., 1., 1.]))"
            ]
          },
          "metadata": {},
          "execution_count": 40
        }
      ],
      "source": [
        "# Fit SVM using sklearn and calculate the test accuracy\n",
        "y_pred_1,t_test"
      ]
    },
    {
      "cell_type": "code",
      "source": [
        "t_test_new = []\n",
        "for i in t_test:\n",
        "  if i==0:\n",
        "    t_test_new.append(-1.0)\n",
        "  else:\n",
        "    t_test_new.append(1.0)"
      ],
      "metadata": {
        "id": "PYcU_NyMyTNs"
      },
      "execution_count": 77,
      "outputs": []
    },
    {
      "cell_type": "code",
      "source": [
        "from sklearn.metrics import confusion_matrix, ConfusionMatrixDisplay\n",
        "cm = confusion_matrix(y_pred_1, t_test_new)\n",
        "disp = ConfusionMatrixDisplay(confusion_matrix=cm)\n",
        "disp.plot()"
      ],
      "metadata": {
        "colab": {
          "base_uri": "https://localhost:8080/",
          "height": 296
        },
        "id": "CgRkmyfty0up",
        "outputId": "2f403ba9-6665-49aa-db46-5ef67f56fa70"
      },
      "execution_count": 82,
      "outputs": [
        {
          "output_type": "execute_result",
          "data": {
            "text/plain": [
              "<sklearn.metrics._plot.confusion_matrix.ConfusionMatrixDisplay at 0x7f74ff250810>"
            ]
          },
          "metadata": {},
          "execution_count": 82
        },
        {
          "output_type": "display_data",
          "data": {
            "text/plain": [
              "<Figure size 432x288 with 2 Axes>"
            ],
            "image/png": "[encoded data removed]"
          },
          "metadata": {
            "needs_background": "light"
          }
        }
      ]
    },
    {
      "cell_type": "markdown",
      "metadata": {
        "id": "HSj6gb-uK1_9"
      },
      "source": [
        "# Task 2: Decision Trees\n",
        "\n",
        "Next, we will implement a simple decision tree classifier using the Wine dataset, one of the standard sklearn datasets. \n",
        "\n",
        "We will use the Gini impurity as a criterion for splitting. It is defined for a set of labels as\n",
        "$$ G = \\sum_{i=0}^C p(i) * (1- p(i)) $$\n",
        "\n",
        "Given labels $l$ and split $l_a$ and $l_b$, the weighted removed impurity can be computed by $G(l) - \\frac{|l_a|}{|l|}G(l_a) - \\frac{|l_b|}{|l|}G(l_b)$.\n",
        "\n",
        "Here is a simple explanation of the Gini impurity that you may find useful: https://victorzhou.com/blog/gini-impurity/\n",
        "\n",
        "\n",
        "### Task 2.1\n",
        "\n",
        "1. Plot the distribution of the first feature of for each class of the wine dataset.\n",
        "2. Implement a function `gini_impurity(t)` that computes the Gini impurity for an array of labels `t`.\n",
        "3. Calculate the removed Gini impurity for a split after 50 samples, i.e. between `t[:50]` and `t[50:]`."
      ]
    },
    {
      "cell_type": "code",
      "execution_count": 84,
      "metadata": {
        "id": "pgtakUIXK1_9"
      },
      "outputs": [],
      "source": [
        "# Load Wine dataset and split into train+test set\n",
        "\n",
        "X, t = load_wine(return_X_y=True)\n",
        "X_train, X_test, t_train, t_test = split_data(X, t)"
      ]
    },
    {
      "cell_type": "code",
      "execution_count": 85,
      "metadata": {
        "id": "K439MijjK1_-",
        "colab": {
          "base_uri": "https://localhost:8080/",
          "height": 516
        },
        "outputId": "ab0c6945-6ed9-4f19-90e2-26fa7fa4032e"
      },
      "outputs": [
        {
          "output_type": "execute_result",
          "data": {
            "text/plain": [
              "Text(0.5, 1.0, 'Class2')"
            ]
          },
          "metadata": {},
          "execution_count": 85
        },
        {
          "output_type": "display_data",
          "data": {
            "text/plain": [
              "<Figure size 720x576 with 3 Axes>"
            ],
            "image/png": "[encoded data removed]"
          },
          "metadata": {
            "needs_background": "light"
          }
        }
      ],
      "source": [
        "# Plot distribution\n",
        "c0 = X[t[:]==0]\n",
        "c1 = X[t[:]==1]\n",
        "c2 = X[t[:]==2]\n",
        "\n",
        "plt.figure(figsize=(10,8))\n",
        "plt.subplot(2,2,1)\n",
        "plt.plot(c0[:,0],'-',color=\"blue\",lw=2)\n",
        "plt.title(\"Class0\")\n",
        "\n",
        "plt.subplot(2,2,2)\n",
        "plt.plot(c1[:,0],'-',color=\"orange\",lw=2)\n",
        "plt.title(\"Class1\")\n",
        "\n",
        "plt.subplot(2,2,3)\n",
        "plt.plot(c2[:,0],'-',color=\"red\",lw=2)\n",
        "plt.title(\"Class2\")"
      ]
    },
    {
      "cell_type": "code",
      "execution_count": 87,
      "metadata": {
        "id": "VxsWoC35K1_-",
        "colab": {
          "base_uri": "https://localhost:8080/"
        },
        "outputId": "d16a4c62-5379-46d2-efa8-e86989d66213"
      },
      "outputs": [
        {
          "output_type": "execute_result",
          "data": {
            "text/plain": [
              "0.2651426982072971"
            ]
          },
          "metadata": {},
          "execution_count": 87
        }
      ],
      "source": [
        "# Compute Gini impurity\n",
        "def gini_impurity(t):\n",
        "  count = np.unique(t, return_counts = True)[1]\n",
        "  gini_imp = 0 \n",
        "  for i in count:\n",
        "    p = i/np.sum(count)\n",
        "    gini_imp = gini_imp + p*(1-p)\n",
        "  return gini_imp\n",
        "gini = gini_impurity(t)  \n",
        "gini_left = gini_impurity(t[:50])\n",
        "gini_right = gini_impurity(t[50:])\n",
        "w1 = t[:50].shape[0]/ (t[:50].shape[0] + t[50:].shape[0]) \n",
        "w2 = t[50:].shape[0] / (t[:50].shape[0] + t[50:].shape[0])  \n",
        "gini_final = gini - (w1 * gini_left + w2 * gini_right)\n",
        "gini_final"
      ]
    },
    {
      "cell_type": "markdown",
      "metadata": {
        "id": "QV2se68KK1_-"
      },
      "source": [
        "### Task 2.2\n",
        "For each of the first 12 features, compute the remove Gini impurity for every possible split. Visualize the removed Gini impurity per feature across all splits. Which is the optimal split?"
      ]
    },
    {
      "cell_type": "code",
      "execution_count": 123,
      "metadata": {
        "id": "4HNriFsKK1_-"
      },
      "outputs": [],
      "source": [
        "# Plotting\n",
        "import pandas as pd\n",
        "def ma(x, window):\n",
        "  return np.convolve(x, np.ones(window), 'valid') / window\n",
        "  \n",
        "\n",
        "def best_split(x,t):\n",
        "  X_df = pd.DataFrame(X)\n",
        "  X_df['t'] = t\n",
        "  df = {}\n",
        "  xmeans = {}\n",
        "  ginis = {}\n",
        "  split = {}\n",
        "  for i in X_df.columns[:13]:\n",
        "    df[i] = X_df[[i,'t']].sort_values(i)\n",
        "    ginis[i] = []\n",
        "    xmeans[i] = ma(np.array(X_df[i]),2)\n",
        "    split[i] = {}\n",
        "    for value in xmeans[i]:\n",
        "      gini_left = gini_impurity(np.array(df[i][df[i][i]<value]['t']))\n",
        "      gini_right = gini_impurity(np.array(df[i][df[i][i]>=value]['t']))\n",
        "      w1 = np.array(df[i][df[i][i]<value]['t']).shape[0]/ (np.array(df[i][df[i][i]>=value]['t']).shape[0] + np.array(df[i][df[i][i]<value]['t']).shape[0])\n",
        "      w2 = np.array(df[i][df[i][i]>=value]['t']).shape[0]/ (np.array(df[i][df[i][i]>=value]['t']).shape[0] + np.array(df[i][df[i][i]<value]['t']).shape[0])\n",
        "      removed_gini = gini - (w1 * gini_left + w2 * gini_right)\n",
        "      ginis[i].append(removed_gini)\n",
        "      split[i][removed_gini] = value\n",
        "  return ginis, split\n",
        "features , split = best_split(X,t)  \n",
        "\n",
        "def get_best_split(x,t):\n",
        "    GINI, values = best_split(x,t)\n",
        "    max_gain=0\n",
        "    for feature in values.keys():\n",
        "        for GINIgain in values[feature]:\n",
        "            if GINIgain > max_gain:\n",
        "                best_feature = feature\n",
        "                best_value = values[feature][GINIgain]    \n",
        "                # Setting the best gain to the current one \n",
        "                max_gain = GINIgain\n",
        "    return best_feature, best_value        \n"
      ]
    },
    {
      "cell_type": "code",
      "source": [
        "best_feature, best_value = get_best_split(X,t)\n",
        "best_feature , best_value"
      ],
      "metadata": {
        "colab": {
          "base_uri": "https://localhost:8080/"
        },
        "id": "PiZ1R28B5hoi",
        "outputId": "a862f2f6-d7b4-41fe-fca4-21447bb560d0"
      },
      "execution_count": 95,
      "outputs": [
        {
          "output_type": "execute_result",
          "data": {
            "text/plain": [
              "(9, 3.4699999999999998)"
            ]
          },
          "metadata": {},
          "execution_count": 95
        }
      ]
    },
    {
      "cell_type": "markdown",
      "metadata": {
        "id": "4jiDpl62K1__"
      },
      "source": [
        "### Task 2.3\n",
        "\n",
        "1. Implement a function `build_tree(X, t, depth)` which recursively builds a tree. Use the classes `Node` and `Leaf` as a data structure to build your tree.\n",
        "2. Implement a function `predict_tree(tree, x)` which makes a prediction for sample `x`. Obtain scores for the `wine` dataset and compare to `sklearn.tree.DecisionTree`.\n",
        "3. Switch back to the synthetic 2d dataset from the beginning (kernel methods). Compute scores and visualize the decisions in a 2d grid."
      ]
    },
    {
      "cell_type": "code",
      "source": [
        "from sklearn import tree\n",
        "from sklearn.metrics import accuracy_score"
      ],
      "metadata": {
        "id": "-yvQ9rU9zzZw"
      },
      "execution_count": 89,
      "outputs": []
    },
    {
      "cell_type": "code",
      "execution_count": 97,
      "metadata": {
        "id": "7D0myvvTK1__"
      },
      "outputs": [],
      "source": [
        "class Node:\n",
        "    def __init__(self, gini, num_samples, num_samples_per_class, predicted_class):\n",
        "        self.gini = gini\n",
        "        self.num_samples = num_samples\n",
        "        self.num_samples_per_class = num_samples_per_class\n",
        "        self.predicted_class = predicted_class\n",
        "        self.feature_index = 0\n",
        "        self.threshold = 0\n",
        "        self.left = None\n",
        "        self.right = None\n",
        "\n",
        "\n",
        "class Leaf:\n",
        "    def __init__(self, label):\n",
        "        self.label = label\n",
        "X_df = pd.DataFrame(X)\n",
        "X_df['Y'] = t"
      ]
    },
    {
      "cell_type": "code",
      "execution_count": 125,
      "metadata": {
        "id": "CC4_T9mQK1__"
      },
      "outputs": [],
      "source": [
        "# Implement recursive tree function\n",
        "    \n",
        "    # ---------------- INSERT CODE ----------------------\n",
        "def fit( X, y):\n",
        "    \"\"\"Build decision tree classifier.\"\"\"\n",
        "    n_classes_ = range(3)  # classes are assumed to go from 0 to n-1\n",
        "    n_features_ = X.shape[1]\n",
        "    tree_ =build_tree(X, y)\n",
        "\n",
        "def build_tree(X, y, depth=0, max_depth=3, n_labels=3):\n",
        "    idx = None\n",
        "    X_df = pd.DataFrame(X)\n",
        "    X_df['Y'] = y\n",
        "    n_classes_ = range(3)\n",
        "    num_samples_per_class = [np.sum(y == i) for i in n_classes_]\n",
        "    predicted_class = np.argmax(num_samples_per_class)\n",
        "    node = Node(\n",
        "            gini=gini_impurity(y),\n",
        "            num_samples=y.size,\n",
        "            num_samples_per_class=num_samples_per_class,\n",
        "            predicted_class=predicted_class,\n",
        "        )\n",
        "    if depth < max_depth:\n",
        "        idx, thr = get_best_split(X,t)\n",
        "    if idx is not None:\n",
        "        indices_left = X_df[idx] <= thr\n",
        "        indices_right = X_df[idx] > thr\n",
        "        X_left, y_left = X_df[list(range(13))][indices_left], X_df['Y'][indices_left]\n",
        "        X_right, y_right = X_df[list(range(13))][indices_right], X_df['Y'][indices_right]\n",
        "        node.feature_index = idx\n",
        "        node.threshold = thr\n",
        "        node.left = build_tree(X_left, y_left, depth=depth + 1)\n",
        "        node.right = build_tree(X_right, y_right, depth=depth + 1)\n",
        "    return node\n",
        "\n",
        "\n",
        "    # ---------------- END CODE -------------------------\n",
        "\n",
        "    \n",
        "def predict_tree(node, x):\n",
        "    \n",
        "    # ---------------- INSERT CODE ----------------------\n",
        "    pass\n",
        "    # ---------------- END CODE -------------------------"
      ]
    },
    {
      "cell_type": "code",
      "execution_count": 126,
      "metadata": {
        "id": "tthHD7pRK1__"
      },
      "outputs": [],
      "source": [
        "# Build tree\n",
        "tree = build_tree(X_train, t_train, 0, max_depth=3, n_labels=3)"
      ]
    },
    {
      "cell_type": "code",
      "execution_count": 90,
      "metadata": {
        "id": "GoLKdkR5K2AA",
        "colab": {
          "base_uri": "https://localhost:8080/"
        },
        "outputId": "8f4673b3-528d-4a1f-e7de-97e5c3f8c059"
      },
      "outputs": [
        {
          "output_type": "execute_result",
          "data": {
            "text/plain": [
              "0.9074074074074074"
            ]
          },
          "metadata": {},
          "execution_count": 90
        }
      ],
      "source": [
        "# Calculate training and test scores\n",
        "clf = tree.DecisionTreeClassifier(criterion = \"gini\", max_depth=3)\n",
        "clf = clf.fit(X_train, t_train)\n",
        "t_pred = clf.predict(X_test)\n",
        "acc = accuracy_score(t_test,t_pred)\n",
        "acc"
      ]
    },
    {
      "cell_type": "code",
      "execution_count": 91,
      "metadata": {
        "id": "WuLeWJ27K2AA",
        "colab": {
          "base_uri": "https://localhost:8080/"
        },
        "outputId": "ec200f41-3c4c-4f75-cebf-297bb37d71fe"
      },
      "outputs": [
        {
          "output_type": "execute_result",
          "data": {
            "text/plain": [
              "0.9866666666666667"
            ]
          },
          "metadata": {},
          "execution_count": 91
        }
      ],
      "source": [
        "# Calculate test score for synthetic 2D dataset\n",
        "X_train2d, X_test2d, t_train2d, t_test2d = split_data(X_2d, t_2d, seed=1)\n",
        "clf2 = tree.DecisionTreeClassifier(criterion = \"gini\", max_depth=3)\n",
        "clf2 = clf2.fit(X_train2d, t_train2d)\n",
        "t_pred2d = clf2.predict(X_test2d)\n",
        "acc2 = accuracy_score(t_test2d,t_pred2d)\n",
        "acc2"
      ]
    },
    {
      "cell_type": "code",
      "execution_count": null,
      "metadata": {
        "id": "AAb_oPNdK2AA"
      },
      "outputs": [],
      "source": [
        "# Visualize\n"
      ]
    }
  ],
  "metadata": {
    "kernelspec": {
      "display_name": "Python 3",
      "language": "python",
      "name": "python3"
    },
    "language_info": {
      "codemirror_mode": {
        "name": "ipython",
        "version": 3
      },
      "file_extension": ".py",
      "mimetype": "text/x-python",
      "name": "python",
      "nbconvert_exporter": "python",
      "pygments_lexer": "ipython3",
      "version": "3.7.4"
    },
    "nteract": {
      "version": "0.28.0"
    },
    "colab": {
      "name": "4_NAME1_NAME2_NAME3.ipynb",
      "provenance": [],
      "collapsed_sections": []
    }
  },
  "nbformat": 4,
  "nbformat_minor": 0
}