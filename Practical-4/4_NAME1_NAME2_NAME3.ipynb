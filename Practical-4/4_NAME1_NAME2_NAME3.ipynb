{
  "cells": [
    {
      "cell_type": "markdown",
      "metadata": {
        "id": "r8cNuSNRK1_u"
      },
      "source": [
        "# Machine Learning - Practical 4\n",
        "\n",
        "Names: Smit Patel, Nishtha Agarwal, Daria Bilich"
      ]
    },
    {
      "cell_type": "code",
      "execution_count": 1,
      "metadata": {
        "id": "_JoO-ns0K1_y"
      },
      "outputs": [],
      "source": [
        "import numpy as np\n",
        "import cvxopt\n",
        "from matplotlib import pyplot as plt\n",
        "from sklearn.svm import SVC\n",
        "from sklearn.datasets import load_wine\n",
        "from sklearn.tree import DecisionTreeClassifier"
      ]
    },
    {
      "cell_type": "markdown",
      "metadata": {
        "id": "vVSjlv7DK1_0"
      },
      "source": [
        "## Task 0: The Data\n",
        "\n",
        "We will work with the data from Practical 3. Load the data and split it into a training and test set. You can re-use the data splitting function from Practical 2."
      ]
    },
    {
      "cell_type": "code",
      "execution_count": 6,
      "metadata": {
        "id": "QU_2z1A0K1_1"
      },
      "outputs": [],
      "source": [
        "def split_data(X, y, frac=0.3, seed=None):\n",
        "    if seed is not None:\n",
        "        np.random.seed(seed)\n",
        "        \n",
        "    # ---------------- INSERT CODE ----------------------\n",
        "    indices = np.random.choice( len(X), int((1-frac)*len(X)), replace=False )\n",
        "    X_train = X[indices]\n",
        "    y_train = y[indices]\n",
        "\n",
        "    indices = list((set(range(len(X))) - set(indices)))\n",
        "    X_test = X[indices]\n",
        "    y_test = y[indices]\n",
        "\n",
        "    # ---------------- END CODE -------------------------\n",
        "    \n",
        "    return X_train, X_test, y_train, y_test"
      ]
    },
    {
      "cell_type": "code",
      "execution_count": 5,
      "metadata": {
        "id": "FOXPPvn3K1_1"
      },
      "outputs": [],
      "source": [
        "# load data\n",
        "X_2d, t_2d = np.load('nonlin_2d_data.npy')[:,:2], np.load('nonlin_2d_data.npy')[:, 2]"
      ]
    },
    {
      "cell_type": "code",
      "execution_count": 7,
      "metadata": {
        "id": "9VJn5BtGK1_2"
      },
      "outputs": [],
      "source": [
        "# split data\n",
        "X_train, X_test, t_train, t_test = split_data(X_2d, t_2d, seed=1)"
      ]
    },
    {
      "cell_type": "markdown",
      "metadata": {
        "id": "WN1BnevTK1_2"
      },
      "source": [
        "## Task 1: Support Vector Machines\n",
        "\n",
        "First, you will implement a training algorithm for the Support Vector Machine (SVM). For solving the quadratic program, we provide a simple interface to the cvxopt library below."
      ]
    },
    {
      "cell_type": "markdown",
      "metadata": {
        "id": "Ure7lqDtK1_3"
      },
      "source": [
        "In SVMs, each data sample $x_n$ has a corresponding lagrange multiplier $\\alpha_n$ which indicates if $x_n$ is a support vector. In the latter case $\\alpha_n > 0$ holds. \n",
        "The goal of learning the SVM is to figure out which samples are support vectors by learning $\\mathbf{\\alpha}$. The dual SVM optimizes the following quadratic program.\n",
        "\n",
        "$$ \\min \\frac{1}{2} \\sum_{n=1}^N \\sum_{m=1}^N \\alpha_n \\alpha_m t_n t_m k(\\mathbf{x}_n, \\mathbf{x}_m) - \\sum_{n=1}^N \\alpha_n$$\n",
        "subject to \n",
        "$$ 0 \\leq \\alpha_n \\leq C $$\n",
        "$$ \\sum_{n=1}^N \\alpha_n t_n = 0 $$ \n",
        "\n",
        "The quadratic program solver expects the following form:\n",
        "$$ \\min \\frac{1}{2} \\alpha^T P \\alpha + \\mathbf q^T \\mathbf \\alpha $$\n",
        "subject to \n",
        "\n",
        "$$A \\alpha = b$$\n",
        "$$G \\alpha \\leq h $$\n",
        "\n",
        "Here, $A$ and $G$ are matrices with one row per individual constraint. Similarly, $b$ (the intercept or bias) and $h$ are vectors with one element per individual constraint.\n",
        "\n",
        "Having trained the SVM, a prediction for an input $\\mathbf{x}$ is made by:\n",
        "\n",
        "$$ y = sign([\\sum_n^{N} \\alpha_n t_n k(\\mathbf{x}, \\mathbf{x}_n)] + b)  $$\n",
        "\n",
        "\n",
        "### Task 1.1\n",
        " \n",
        "Use the code provided below as a basis to express the constrained optimization problem in terms of $P, q, A, b, G$ and $h$ and implement a function `fit_svm` which passes these variables to the provided QP solver. Fit a SVM on the training data and extract its parameters using a linear kernel (dot product).\n",
        "\n",
        "**Hints:**\n",
        "  - The box constraint $0 \\leq \\alpha_n \\leq C$ defines two constraints of the form $G \\alpha_n \\leq h$ for each $\\alpha_n$.\n",
        "  - The inequality $x \\geq 0$ is equivalent to $-x \\leq 0$.\n",
        "  - The SVM is described in chapter 12 of Elements of Statistical Learning."
      ]
    },
    {
      "cell_type": "code",
      "execution_count": null,
      "metadata": {
        "id": "q5oVpK6BK1_4"
      },
      "outputs": [],
      "source": [
        "def linear_kernel(a, b):\n",
        "    # ---------------- INSERT CODE ----------------------\n",
        "\n",
        "\n",
        "\n",
        "    # ---------------- END CODE -------------------------\n",
        "\n",
        "\n",
        "def fit_svm(X, t, kernel, C=1.0):\n",
        "        '''Fit SVM using data (X,t), specified kernel and parameter C.\n",
        "    Inputs\n",
        "        X:  predictors\n",
        "        t:  targets\n",
        "        C:  constant\n",
        "    '''\n",
        "\n",
        "    t = np.array([-1 if l == 0 else 1 for l in t])\n",
        "    \n",
        "    # ---------------- INSERT CODE ----------------------\n",
        "    # P = ...\n",
        "    # q = ...\n",
        "    # A = ...\n",
        "    # b = ...\n",
        "    # G = ...\n",
        "    # h = ...\n",
        "    # ---------------- END CODE -------------------------\n",
        "    \n",
        "    assert P.shape == (len(X), len(X))\n",
        "    assert len(q) == len(X)\n",
        "    assert A.shape == (1, n_samples) and A.dtype == 'float'\n",
        "    assert b.shape == (1, 1)\n",
        "    assert len(G) == 2 * len(X)\n",
        "    assert len(h) == 2 * len(X)\n",
        "\n",
        "    return solve_quadratic_program(P, q, A, b, G, h)\n",
        "\n",
        "def solve_quadratic_program(P, q, A, b, G, h):\n",
        "    '''Uses cvxopt to solve the quadratic program.'''\n",
        "    P, q, A, b, G, h = [cvxopt.matrix(var) for var in [P, q, A, b, G, h]]\n",
        "    minimization = cvxopt.solvers.qp(P, q, G, h, A, b)\n",
        "    lagr_mult = np.ravel(minimization['x'])\n",
        "    return lagr_mult\n",
        "\n",
        "\n",
        "def extract_parameters(X, t, kernel, lagr_mult, threshold=1e-7):\n",
        "    '''Computes the intercept from the support vector constraints.\n",
        "    \n",
        "    Inputs\n",
        "        X:         predictors\n",
        "        t:         targets\n",
        "        kernel:    a kernel to be used\n",
        "        lagr_mult: the Lagrange multipliers obtained by solving the dual QP\n",
        "        threshold: threshold for choosing support vectors\n",
        "    \n",
        "    Returns\n",
        "        lagr_mult: lagrange multipliers for the support vectors\n",
        "        svs:       set of support vectors\n",
        "        sv_labels: targets t_n for the support vectors\n",
        "        intercept: computed intercept (also called bias)\n",
        "    '''\n",
        "    t = np.array([-1 if l == 0 else 1 for l in t])\n",
        "    \n",
        "    # ---------------- INSERT CODE ----------------------\n",
        "\n",
        "\n",
        "\n",
        "    # ---------------- END CODE -------------------------\n",
        "\n",
        "    return lagr_mult, svs, sv_labels, intercept\n"
      ]
    },
    {
      "cell_type": "code",
      "execution_count": null,
      "metadata": {
        "id": "p1-u_V0cK1_5"
      },
      "outputs": [],
      "source": [
        "# Training\n",
        "# Fit SVM on training data\n",
        "\n",
        "\n",
        "# Extract parameters\n"
      ]
    },
    {
      "cell_type": "markdown",
      "metadata": {
        "id": "cgOfLoYFK1_6"
      },
      "source": [
        "### Task 1.2\n",
        "\n",
        "Having learnt an SVM, we can use the calculated parameters to make predictions on novel samples.\n",
        "- Implement a function `svm_predict(X, kernel, lagr_mult, svs, sv_labels, intercept)`.\n",
        "- Use this function with the linear kernel and compute the test accuracy on the 2d dataset.\n",
        "- Visualize the samples form the test set in a scatter plot colored by your predictions"
      ]
    },
    {
      "cell_type": "code",
      "execution_count": null,
      "metadata": {
        "tags": [],
        "id": "eDzdZRBiK1_6"
      },
      "outputs": [],
      "source": [
        "def svm_predict(X, kernel, lagr_mult, svs, sv_labels, intercept):\n",
        "    ''' Given the learned parameters of the SVM, make a prediction on the test set.\n",
        "    Inputs\n",
        "        X:         predictors\n",
        "        kernel:    a kernel to be used\n",
        "        lagr_mult: the Lagrange multipliers obtained by solving the dual QP\n",
        "        svs:       set of support vectors\n",
        "        sv_labels: targets t_n for the support vectors\n",
        "        intercept: computed intercept (also called bias)\n",
        "    \n",
        "    Returns\n",
        "        prediction: predictions on novel samples\n",
        "    '''  \n",
        "    \n",
        "    # ---------------- INSERT CODE ----------------------\n",
        "\n",
        "\n",
        "\n",
        "    # ---------------- END CODE -------------------------\n",
        "    \n",
        "    return prediction"
      ]
    },
    {
      "cell_type": "code",
      "execution_count": null,
      "metadata": {
        "id": "KbdcY5PvK1_7"
      },
      "outputs": [],
      "source": [
        "# Testing\n",
        "# make predictions for test set\n"
      ]
    },
    {
      "cell_type": "code",
      "execution_count": null,
      "metadata": {
        "id": "zmeCJE0tK1_7"
      },
      "outputs": [],
      "source": [
        "# visualize predictions\n"
      ]
    },
    {
      "cell_type": "markdown",
      "metadata": {
        "id": "ZeTyevkWK1_8"
      },
      "source": [
        "### Task 1.3\n",
        "\n",
        "- Instead of using the linear kernel, use the Gaussian RBF kernel defined in Practical 3.\n",
        "- Compare results on with both kernels with sklearn implementation (SVC)\n",
        "- Visualize the predictions on the test set, the learned support vectors and the decision boundary for both kernels (Hint: Adapt the decision boundary plot from Practical 3)."
      ]
    },
    {
      "cell_type": "code",
      "execution_count": null,
      "metadata": {
        "id": "1up7EfAHK1_8"
      },
      "outputs": [],
      "source": [
        "def rbf_kernel(a, b):\n",
        "    # ---------------- INSERT CODE ----------------------\n",
        "\n",
        "\n",
        "\n",
        "    # ---------------- END CODE -------------------------"
      ]
    },
    {
      "cell_type": "code",
      "execution_count": null,
      "metadata": {
        "id": "JIxzxLNzK1_8"
      },
      "outputs": [],
      "source": [
        "# Fit SVM with rbf kernel and calculate the test accuracy\n"
      ]
    },
    {
      "cell_type": "code",
      "execution_count": null,
      "metadata": {
        "id": "1BzUVnbIK1_9"
      },
      "outputs": [],
      "source": [
        "# Fit SVM using sklearn and calculate the test accuracy\n"
      ]
    },
    {
      "cell_type": "code",
      "execution_count": null,
      "metadata": {
        "id": "sjATZSGhK1_9"
      },
      "outputs": [],
      "source": [
        "# Visualize\n"
      ]
    },
    {
      "cell_type": "markdown",
      "metadata": {
        "id": "HSj6gb-uK1_9"
      },
      "source": [
        "# Task 2: Decision Trees\n",
        "\n",
        "Next, we will implement a simple decision tree classifier using the Wine dataset, one of the standard sklearn datasets. \n",
        "\n",
        "We will use the Gini impurity as a criterion for splitting. It is defined for a set of labels as\n",
        "$$ G = \\sum_{i=0}^C p(i) * (1- p(i)) $$\n",
        "\n",
        "Given labels $l$ and split $l_a$ and $l_b$, the weighted removed impurity can be computed by $G(l) - \\frac{|l_a|}{|l|}G(l_a) - \\frac{|l_b|}{|l|}G(l_b)$.\n",
        "\n",
        "Here is a simple explanation of the Gini impurity that you may find useful: https://victorzhou.com/blog/gini-impurity/\n",
        "\n",
        "\n",
        "### Task 2.1\n",
        "\n",
        "1. Plot the distribution of the first feature of for each class of the wine dataset.\n",
        "2. Implement a function `gini_impurity(t)` that computes the Gini impurity for an array of labels `t`.\n",
        "3. Calculate the removed Gini impurity for a split after 50 samples, i.e. between `t[:50]` and `t[50:]`."
      ]
    },
    {
      "cell_type": "code",
      "execution_count": null,
      "metadata": {
        "id": "pgtakUIXK1_9"
      },
      "outputs": [],
      "source": [
        "# Load Wine dataset and split into train+test set\n",
        "\n",
        "X, t = load_wine(return_X_y=True)\n",
        "X_train, X_test, t_train, t_test = split_data(X, t)"
      ]
    },
    {
      "cell_type": "code",
      "execution_count": null,
      "metadata": {
        "id": "K439MijjK1_-"
      },
      "outputs": [],
      "source": [
        "# Plot distribution\n"
      ]
    },
    {
      "cell_type": "code",
      "execution_count": null,
      "metadata": {
        "id": "VxsWoC35K1_-"
      },
      "outputs": [],
      "source": [
        "# Compute Gini impurity\n"
      ]
    },
    {
      "cell_type": "markdown",
      "metadata": {
        "id": "QV2se68KK1_-"
      },
      "source": [
        "### Task 2.2\n",
        "For each of the first 12 features, compute the remove Gini impurity for every possible split. Visualize the removed Gini impurity per feature across all splits. Which is the optimal split?"
      ]
    },
    {
      "cell_type": "code",
      "execution_count": null,
      "metadata": {
        "id": "4HNriFsKK1_-"
      },
      "outputs": [],
      "source": [
        "# Plotting\n"
      ]
    },
    {
      "cell_type": "markdown",
      "metadata": {
        "id": "4jiDpl62K1__"
      },
      "source": [
        "### Task 2.3\n",
        "\n",
        "1. Implement a function `build_tree(X, t, depth)` which recursively builds a tree. Use the classes `Node` and `Leaf` as a data structure to build your tree.\n",
        "2. Implement a function `predict_tree(tree, x)` which makes a prediction for sample `x`. Obtain scores for the `wine` dataset and compare to `sklearn.tree.DecisionTree`.\n",
        "3. Switch back to the synthetic 2d dataset from the beginning (kernel methods). Compute scores and visualize the decisions in a 2d grid."
      ]
    },
    {
      "cell_type": "code",
      "execution_count": null,
      "metadata": {
        "id": "7D0myvvTK1__"
      },
      "outputs": [],
      "source": [
        "class Node:\n",
        "    def __init__(self, left, right, n_feat, threshold):\n",
        "        self.left = left\n",
        "        self.right = right\n",
        "        self.n_feat = n_feat\n",
        "        self.threshold = threshold\n",
        "\n",
        "\n",
        "class Leaf:\n",
        "    def __init__(self, label):\n",
        "        self.label = label\n"
      ]
    },
    {
      "cell_type": "code",
      "execution_count": null,
      "metadata": {
        "id": "CC4_T9mQK1__"
      },
      "outputs": [],
      "source": [
        "# Implement recursive tree function\n",
        "\n",
        "def build_tree(X, t, depth, max_depth=3, n_labels=2):\n",
        "    \n",
        "    # ---------------- INSERT CODE ----------------------\n",
        "\n",
        "\n",
        "\n",
        "    # ---------------- END CODE -------------------------\n",
        "\n",
        "    \n",
        "def predict_tree(node, x):\n",
        "    \n",
        "    # ---------------- INSERT CODE ----------------------\n",
        "\n",
        "\n",
        "\n",
        "    # ---------------- END CODE -------------------------"
      ]
    },
    {
      "cell_type": "code",
      "execution_count": null,
      "metadata": {
        "id": "tthHD7pRK1__"
      },
      "outputs": [],
      "source": [
        "# Build tree\n",
        "\n",
        "tree = build_tree(X_train, t_train, 0, max_depth=3, n_labels=3)"
      ]
    },
    {
      "cell_type": "code",
      "execution_count": null,
      "metadata": {
        "id": "GoLKdkR5K2AA"
      },
      "outputs": [],
      "source": [
        "# Calculate training and test scores\n"
      ]
    },
    {
      "cell_type": "code",
      "execution_count": null,
      "metadata": {
        "id": "MLsRDTexK2AA"
      },
      "outputs": [],
      "source": [
        "# Calculate test score using sklearn\n"
      ]
    },
    {
      "cell_type": "code",
      "execution_count": null,
      "metadata": {
        "id": "WuLeWJ27K2AA"
      },
      "outputs": [],
      "source": [
        "# Calculate test score for synthetic 2D dataset\n"
      ]
    },
    {
      "cell_type": "code",
      "execution_count": null,
      "metadata": {
        "id": "AAb_oPNdK2AA"
      },
      "outputs": [],
      "source": [
        "# Visualize\n"
      ]
    }
  ],
  "metadata": {
    "kernelspec": {
      "display_name": "Python 3",
      "language": "python",
      "name": "python3"
    },
    "language_info": {
      "codemirror_mode": {
        "name": "ipython",
        "version": 3
      },
      "file_extension": ".py",
      "mimetype": "text/x-python",
      "name": "python",
      "nbconvert_exporter": "python",
      "pygments_lexer": "ipython3",
      "version": "3.7.4"
    },
    "nteract": {
      "version": "0.28.0"
    },
    "colab": {
      "name": "4_NAME1_NAME2_NAME3.ipynb",
      "provenance": [],
      "collapsed_sections": []
    }
  },
  "nbformat": 4,
  "nbformat_minor": 0
}