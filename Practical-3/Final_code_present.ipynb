{
  "cells": [
    {
      "cell_type": "markdown",
      "metadata": {
        "id": "ZDQkWjUcLl7Q"
      },
      "source": [
        "# Practical 3"
      ]
    },
    {
      "cell_type": "code",
      "execution_count": null,
      "metadata": {
        "id": "K6Q5NeynLl7U"
      },
      "outputs": [],
      "source": [
        "import numpy as np\n",
        "from matplotlib import pyplot as plt\n",
        "import cvxopt  # needed later on"
      ]
    },
    {
      "cell_type": "markdown",
      "metadata": {
        "nteract": {
          "transient": {
            "deleting": false
          }
        },
        "id": "Bi00idpgLl7W"
      },
      "source": [
        "# Task 0: Preliminaries\n",
        "\n",
        "This time we will work with a synthetic 2d dataset to facilitate visualization and be able to focus on the algorithms rather than spending energy to understand the dataset. The dataset consists of two classes and two predictors. Below we load the dataset and plot it."
      ]
    },
    {
      "cell_type": "code",
      "execution_count": null,
      "metadata": {
        "jupyter": {
          "outputs_hidden": false,
          "source_hidden": false
        },
        "nteract": {
          "transient": {
            "deleting": false
          }
        },
        "id": "cR74idFBLl7W",
        "outputId": "414fafb3-ad5b-4b3a-bd1b-bfbb11c3a809",
        "colab": {
          "base_uri": "https://localhost:8080/",
          "height": 281
        }
      },
      "outputs": [
        {
          "output_type": "display_data",
          "data": {
            "text/plain": [
              "<Figure size 432x288 with 1 Axes>"
            ],
            "image/png": "[encoded data removed]"
          },
          "metadata": {
            "needs_background": "light"
          }
        }
      ],
      "source": [
        "X_2d, t_2d = np.load('nonlin_2d_data.npy')[:, :2], np.load('nonlin_2d_data.npy')[:, 2]\n",
        "\n",
        "plt.scatter(X_2d[:, 0], X_2d[:, 1], c=t_2d)\n",
        "plt.xlabel('$x_1$')\n",
        "plt.ylabel('$x_2$')\n",
        "plt.axis('square');"
      ]
    },
    {
      "cell_type": "markdown",
      "metadata": {
        "id": "kNfQ9iNtLl7X"
      },
      "source": [
        "### Task 0.1\n",
        "\n",
        "Apply logistic regression and LDA to the provided data, compute classification accuracy and plot the predictions. How do they perform? You're welcome to use sklearn for this task."
      ]
    },
    {
      "cell_type": "code",
      "execution_count": null,
      "metadata": {
        "id": "foF4QIGULl7Y"
      },
      "outputs": [],
      "source": [
        "# Split data in training and test set\n",
        "np.random.seed(42)\n",
        "train_size = int(len(X_2d)*0.8)\n",
        "trainX, trainY = X_2d[np.random.choice(len(X_2d), train_size, replace=False)], t_2d[np.random.choice(len(X_2d), train_size, replace=False)]\n",
        "testX, testY = X_2d[list(set(range(len(X_2d)))- set(np.random.choice(len(X_2d), train_size, replace=False)))], t_2d[list(set(range(len(X_2d)))- set(np.random.choice(len(X_2d), train_size, replace=False)))]"
      ]
    },
    {
      "cell_type": "code",
      "execution_count": null,
      "metadata": {
        "id": "hUMgpF2pLl7Y",
        "colab": {
          "base_uri": "https://localhost:8080/"
        },
        "outputId": "4e9ff04d-ffc5-49e3-bc7f-5da5909af7e9"
      },
      "outputs": [
        {
          "output_type": "execute_result",
          "data": {
            "text/plain": [
              "0.6"
            ]
          },
          "metadata": {},
          "execution_count": 5
        }
      ],
      "source": [
        "# Logistic Regression\n",
        "from sklearn.linear_model import LogisticRegression\n",
        "clf = LogisticRegression(random_state=0).fit(trainX, trainY)\n",
        "clf.score(testX,testY)"
      ]
    },
    {
      "cell_type": "code",
      "execution_count": null,
      "metadata": {
        "id": "cFBA6gvnLl7Z",
        "colab": {
          "base_uri": "https://localhost:8080/"
        },
        "outputId": "cdd21b2c-b67f-4700-c5d6-03eecc41dccd"
      },
      "outputs": [
        {
          "output_type": "execute_result",
          "data": {
            "text/plain": [
              "0.6"
            ]
          },
          "metadata": {},
          "execution_count": 6
        }
      ],
      "source": [
        "# LDA\n",
        "from sklearn.discriminant_analysis import LinearDiscriminantAnalysis\n",
        "clf = LinearDiscriminantAnalysis().fit(trainX,trainY)\n",
        "clf.score(testX,testY)"
      ]
    },
    {
      "cell_type": "markdown",
      "metadata": {
        "id": "NpkEFsFHLl7Z"
      },
      "source": [
        "### Task 0.2\n",
        "\n",
        "Implement the Gaussian RBF and visualize the pairwise similarities of `x`."
      ]
    },
    {
      "cell_type": "code",
      "execution_count": null,
      "metadata": {
        "id": "hJ5md4ayLl7Z"
      },
      "outputs": [],
      "source": [
        "x = np.stack([np.sin(np.linspace(0, 8, 15)), np.cos(np.linspace(0, 7, 15))]).T"
      ]
    },
    {
      "cell_type": "code",
      "execution_count": null,
      "metadata": {
        "id": "dcd4h4SaLl7a"
      },
      "outputs": [],
      "source": [
        "# RBF kernel\n",
        "import math\n",
        "def rbfkernal(a,b,gamma=1):\n",
        "  # x22 = list(X2)\n",
        "  # X2 = np.array([x22] * len(X1))\n",
        "  # X2 = X2.squeeze()\n",
        "  # s = []\n",
        "  # for i in X1:\n",
        "  #   s.append(list(np.full(len(X1), i)))\n",
        "  # k1 = np.array(s)\n",
        "  # k = np.power((k1 - X2),2)\n",
        "  # k = k - np.abs(2 * np.mat(X1) * np.mat(X2).T)\n",
        "\n",
        "  return np.exp(np.power(np.linalg.norm(a- b),2)*-1*gamma)"
      ]
    },
    {
      "cell_type": "code",
      "source": [
        "kernel_mt = np.zeros((len(x), len(x)))\n",
        "for i in range(len(x)):\n",
        "  for j in range(len(x)):\n",
        "    kernel_mt[i, j] = rbfkernal(x[i], x[j])"
      ],
      "metadata": {
        "id": "x5RVnSdEPcCC"
      },
      "execution_count": null,
      "outputs": []
    },
    {
      "cell_type": "code",
      "source": [
        "#Visualize pairwise similarities\n",
        "for xa, ya in zip(kernel_mt[:][0], kernel_mt[:][1:]):\n",
        "    plt.scatter([xa] * len(ya), ya)"
      ],
      "metadata": {
        "id": "J5RrtgJCmvfl",
        "colab": {
          "base_uri": "https://localhost:8080/",
          "height": 265
        },
        "outputId": "4d9071d4-5573-467d-9c48-7c991bed40f6"
      },
      "execution_count": null,
      "outputs": [
        {
          "output_type": "display_data",
          "data": {
            "text/plain": [
              "<Figure size 432x288 with 1 Axes>"
            ],
            "image/png": "[encoded data removed]"
          },
          "metadata": {
            "needs_background": "light"
          }
        }
      ]
    },
    {
      "cell_type": "code",
      "source": [
        "import seaborn as sns\n",
        "sns.set(rc={'figure.figsize':(10,8)})\n",
        "label = []\n",
        "for i in range(15):\n",
        "  label.append('x'+str(i))\n",
        "ax = sns.heatmap(kernel_mt, xticklabels=label, yticklabels=label, cmap=\"YlGnBu\")\n",
        "plt.yticks(rotation=0);"
      ],
      "metadata": {
        "colab": {
          "base_uri": "https://localhost:8080/",
          "height": 489
        },
        "id": "WxK000wMo8R8",
        "outputId": "307a78f5-1bb7-48e3-ce28-f06bd5eb7fdb"
      },
      "execution_count": null,
      "outputs": [
        {
          "output_type": "display_data",
          "data": {
            "text/plain": [
              "<Figure size 720x576 with 2 Axes>"
            ],
            "image/png": "[encoded data removed]"
          },
          "metadata": {}
        }
      ]
    },
    {
      "cell_type": "code",
      "execution_count": null,
      "metadata": {
        "id": "OXprrH7DLl7a",
        "colab": {
          "base_uri": "https://localhost:8080/",
          "height": 542
        },
        "outputId": "8b9b1598-baed-454d-8a63-ecc174b29d50"
      },
      "outputs": [
        {
          "output_type": "display_data",
          "data": {
            "text/html": [
              "<html>\n",
              "<head><meta charset=\"utf-8\" /></head>\n",
              "<body>\n",
              "    <div>            <script src=\"https://cdnjs.cloudflare.com/ajax/libs/mathjax/2.7.5/MathJax.js?config=TeX-AMS-MML_SVG\"></script><script type=\"text/javascript\">if (window.MathJax) {MathJax.Hub.Config({SVG: {font: \"STIX-Web\"}});}</script>                <script type=\"text/javascript\">window.PlotlyConfig = {MathJaxConfig: 'local'};</script>\n",
              "        <script src=\"https://cdn.plot.ly/plotly-2.8.3.min.js\"></script>                <div id=\"a5f4957c-7155-4f8d-8f47-dadbb48fd986\" class=\"plotly-graph-div\" style=\"height:525px; width:100%;\"></div>            <script type=\"text/javascript\">                                    window.PLOTLYENV=window.PLOTLYENV || {};                                    if (document.getElementById(\"a5f4957c-7155-4f8d-8f47-dadbb48fd986\")) {                    Plotly.newPlot(                        \"a5f4957c-7155-4f8d-8f47-dadbb48fd986\",                        [{\"hovertemplate\":\"x=%{x}<br>y=%{y}<br>z=%{z}<extra></extra>\",\"legendgroup\":\"\",\"marker\":{\"color\":\"#636efa\",\"symbol\":\"circle\"},\"mode\":\"markers\",\"name\":\"\",\"scene\":\"scene\",\"showlegend\":false,\"x\":[0.0,0.5408342133588315,0.9098229129411239,0.9897230488598214,0.7551470262316581,0.2806293995143573,-0.2830558540822556,-0.7568024953079282,-0.9900815210958355,-0.9087704868046733,-0.538705288386157,0.002528975838921635,0.5429596793024328,0.910869520096767,0.9893582466233818],\"y\":[1.0,0.8775825618903728,0.5403023058681398,0.0707372016677029,-0.4161468365471424,-0.8011436155469337,-0.9899924966004454,-0.9364566872907963,-0.6536436208636119,-0.2107957994307797,0.28366218546322625,0.70866977429126,0.960170286650366,0.9765876257280235,0.7539022543433046],\"z\":[1.0,0.7352919296026453,0.3537730394696,0.15832885284948023,0.0760990959545306,0.0360491792068626,0.01759411596411367,0.01326515616624747,0.02436034574154821,0.10107522214781957,0.44782925239193355,0.9186227916307289,0.7434962034520093,0.4359483866383305,0.35366899679206143],\"type\":\"scatter3d\"}],                        {\"template\":{\"data\":{\"bar\":[{\"error_x\":{\"color\":\"#2a3f5f\"},\"error_y\":{\"color\":\"#2a3f5f\"},\"marker\":{\"line\":{\"color\":\"#E5ECF6\",\"width\":0.5},\"pattern\":{\"fillmode\":\"overlay\",\"size\":10,\"solidity\":0.2}},\"type\":\"bar\"}],\"barpolar\":[{\"marker\":{\"line\":{\"color\":\"#E5ECF6\",\"width\":0.5},\"pattern\":{\"fillmode\":\"overlay\",\"size\":10,\"solidity\":0.2}},\"type\":\"barpolar\"}],\"carpet\":[{\"aaxis\":{\"endlinecolor\":\"#2a3f5f\",\"gridcolor\":\"white\",\"linecolor\":\"white\",\"minorgridcolor\":\"white\",\"startlinecolor\":\"#2a3f5f\"},\"baxis\":{\"endlinecolor\":\"#2a3f5f\",\"gridcolor\":\"white\",\"linecolor\":\"white\",\"minorgridcolor\":\"white\",\"startlinecolor\":\"#2a3f5f\"},\"type\":\"carpet\"}],\"choropleth\":[{\"colorbar\":{\"outlinewidth\":0,\"ticks\":\"\"},\"type\":\"choropleth\"}],\"contour\":[{\"colorbar\":{\"outlinewidth\":0,\"ticks\":\"\"},\"colorscale\":[[0.0,\"#0d0887\"],[0.1111111111111111,\"#46039f\"],[0.2222222222222222,\"#7201a8\"],[0.3333333333333333,\"#9c179e\"],[0.4444444444444444,\"#bd3786\"],[0.5555555555555556,\"#d8576b\"],[0.6666666666666666,\"#ed7953\"],[0.7777777777777778,\"#fb9f3a\"],[0.8888888888888888,\"#fdca26\"],[1.0,\"#f0f921\"]],\"type\":\"contour\"}],\"contourcarpet\":[{\"colorbar\":{\"outlinewidth\":0,\"ticks\":\"\"},\"type\":\"contourcarpet\"}],\"heatmap\":[{\"colorbar\":{\"outlinewidth\":0,\"ticks\":\"\"},\"colorscale\":[[0.0,\"#0d0887\"],[0.1111111111111111,\"#46039f\"],[0.2222222222222222,\"#7201a8\"],[0.3333333333333333,\"#9c179e\"],[0.4444444444444444,\"#bd3786\"],[0.5555555555555556,\"#d8576b\"],[0.6666666666666666,\"#ed7953\"],[0.7777777777777778,\"#fb9f3a\"],[0.8888888888888888,\"#fdca26\"],[1.0,\"#f0f921\"]],\"type\":\"heatmap\"}],\"heatmapgl\":[{\"colorbar\":{\"outlinewidth\":0,\"ticks\":\"\"},\"colorscale\":[[0.0,\"#0d0887\"],[0.1111111111111111,\"#46039f\"],[0.2222222222222222,\"#7201a8\"],[0.3333333333333333,\"#9c179e\"],[0.4444444444444444,\"#bd3786\"],[0.5555555555555556,\"#d8576b\"],[0.6666666666666666,\"#ed7953\"],[0.7777777777777778,\"#fb9f3a\"],[0.8888888888888888,\"#fdca26\"],[1.0,\"#f0f921\"]],\"type\":\"heatmapgl\"}],\"histogram\":[{\"marker\":{\"pattern\":{\"fillmode\":\"overlay\",\"size\":10,\"solidity\":0.2}},\"type\":\"histogram\"}],\"histogram2d\":[{\"colorbar\":{\"outlinewidth\":0,\"ticks\":\"\"},\"colorscale\":[[0.0,\"#0d0887\"],[0.1111111111111111,\"#46039f\"],[0.2222222222222222,\"#7201a8\"],[0.3333333333333333,\"#9c179e\"],[0.4444444444444444,\"#bd3786\"],[0.5555555555555556,\"#d8576b\"],[0.6666666666666666,\"#ed7953\"],[0.7777777777777778,\"#fb9f3a\"],[0.8888888888888888,\"#fdca26\"],[1.0,\"#f0f921\"]],\"type\":\"histogram2d\"}],\"histogram2dcontour\":[{\"colorbar\":{\"outlinewidth\":0,\"ticks\":\"\"},\"colorscale\":[[0.0,\"#0d0887\"],[0.1111111111111111,\"#46039f\"],[0.2222222222222222,\"#7201a8\"],[0.3333333333333333,\"#9c179e\"],[0.4444444444444444,\"#bd3786\"],[0.5555555555555556,\"#d8576b\"],[0.6666666666666666,\"#ed7953\"],[0.7777777777777778,\"#fb9f3a\"],[0.8888888888888888,\"#fdca26\"],[1.0,\"#f0f921\"]],\"type\":\"histogram2dcontour\"}],\"mesh3d\":[{\"colorbar\":{\"outlinewidth\":0,\"ticks\":\"\"},\"type\":\"mesh3d\"}],\"parcoords\":[{\"line\":{\"colorbar\":{\"outlinewidth\":0,\"ticks\":\"\"}},\"type\":\"parcoords\"}],\"pie\":[{\"automargin\":true,\"type\":\"pie\"}],\"scatter\":[{\"marker\":{\"colorbar\":{\"outlinewidth\":0,\"ticks\":\"\"}},\"type\":\"scatter\"}],\"scatter3d\":[{\"line\":{\"colorbar\":{\"outlinewidth\":0,\"ticks\":\"\"}},\"marker\":{\"colorbar\":{\"outlinewidth\":0,\"ticks\":\"\"}},\"type\":\"scatter3d\"}],\"scattercarpet\":[{\"marker\":{\"colorbar\":{\"outlinewidth\":0,\"ticks\":\"\"}},\"type\":\"scattercarpet\"}],\"scattergeo\":[{\"marker\":{\"colorbar\":{\"outlinewidth\":0,\"ticks\":\"\"}},\"type\":\"scattergeo\"}],\"scattergl\":[{\"marker\":{\"colorbar\":{\"outlinewidth\":0,\"ticks\":\"\"}},\"type\":\"scattergl\"}],\"scattermapbox\":[{\"marker\":{\"colorbar\":{\"outlinewidth\":0,\"ticks\":\"\"}},\"type\":\"scattermapbox\"}],\"scatterpolar\":[{\"marker\":{\"colorbar\":{\"outlinewidth\":0,\"ticks\":\"\"}},\"type\":\"scatterpolar\"}],\"scatterpolargl\":[{\"marker\":{\"colorbar\":{\"outlinewidth\":0,\"ticks\":\"\"}},\"type\":\"scatterpolargl\"}],\"scatterternary\":[{\"marker\":{\"colorbar\":{\"outlinewidth\":0,\"ticks\":\"\"}},\"type\":\"scatterternary\"}],\"surface\":[{\"colorbar\":{\"outlinewidth\":0,\"ticks\":\"\"},\"colorscale\":[[0.0,\"#0d0887\"],[0.1111111111111111,\"#46039f\"],[0.2222222222222222,\"#7201a8\"],[0.3333333333333333,\"#9c179e\"],[0.4444444444444444,\"#bd3786\"],[0.5555555555555556,\"#d8576b\"],[0.6666666666666666,\"#ed7953\"],[0.7777777777777778,\"#fb9f3a\"],[0.8888888888888888,\"#fdca26\"],[1.0,\"#f0f921\"]],\"type\":\"surface\"}],\"table\":[{\"cells\":{\"fill\":{\"color\":\"#EBF0F8\"},\"line\":{\"color\":\"white\"}},\"header\":{\"fill\":{\"color\":\"#C8D4E3\"},\"line\":{\"color\":\"white\"}},\"type\":\"table\"}]},\"layout\":{\"annotationdefaults\":{\"arrowcolor\":\"#2a3f5f\",\"arrowhead\":0,\"arrowwidth\":1},\"autotypenumbers\":\"strict\",\"coloraxis\":{\"colorbar\":{\"outlinewidth\":0,\"ticks\":\"\"}},\"colorscale\":{\"diverging\":[[0,\"#8e0152\"],[0.1,\"#c51b7d\"],[0.2,\"#de77ae\"],[0.3,\"#f1b6da\"],[0.4,\"#fde0ef\"],[0.5,\"#f7f7f7\"],[0.6,\"#e6f5d0\"],[0.7,\"#b8e186\"],[0.8,\"#7fbc41\"],[0.9,\"#4d9221\"],[1,\"#276419\"]],\"sequential\":[[0.0,\"#0d0887\"],[0.1111111111111111,\"#46039f\"],[0.2222222222222222,\"#7201a8\"],[0.3333333333333333,\"#9c179e\"],[0.4444444444444444,\"#bd3786\"],[0.5555555555555556,\"#d8576b\"],[0.6666666666666666,\"#ed7953\"],[0.7777777777777778,\"#fb9f3a\"],[0.8888888888888888,\"#fdca26\"],[1.0,\"#f0f921\"]],\"sequentialminus\":[[0.0,\"#0d0887\"],[0.1111111111111111,\"#46039f\"],[0.2222222222222222,\"#7201a8\"],[0.3333333333333333,\"#9c179e\"],[0.4444444444444444,\"#bd3786\"],[0.5555555555555556,\"#d8576b\"],[0.6666666666666666,\"#ed7953\"],[0.7777777777777778,\"#fb9f3a\"],[0.8888888888888888,\"#fdca26\"],[1.0,\"#f0f921\"]]},\"colorway\":[\"#636efa\",\"#EF553B\",\"#00cc96\",\"#ab63fa\",\"#FFA15A\",\"#19d3f3\",\"#FF6692\",\"#B6E880\",\"#FF97FF\",\"#FECB52\"],\"font\":{\"color\":\"#2a3f5f\"},\"geo\":{\"bgcolor\":\"white\",\"lakecolor\":\"white\",\"landcolor\":\"#E5ECF6\",\"showlakes\":true,\"showland\":true,\"subunitcolor\":\"white\"},\"hoverlabel\":{\"align\":\"left\"},\"hovermode\":\"closest\",\"mapbox\":{\"style\":\"light\"},\"paper_bgcolor\":\"white\",\"plot_bgcolor\":\"#E5ECF6\",\"polar\":{\"angularaxis\":{\"gridcolor\":\"white\",\"linecolor\":\"white\",\"ticks\":\"\"},\"bgcolor\":\"#E5ECF6\",\"radialaxis\":{\"gridcolor\":\"white\",\"linecolor\":\"white\",\"ticks\":\"\"}},\"scene\":{\"xaxis\":{\"backgroundcolor\":\"#E5ECF6\",\"gridcolor\":\"white\",\"gridwidth\":2,\"linecolor\":\"white\",\"showbackground\":true,\"ticks\":\"\",\"zerolinecolor\":\"white\"},\"yaxis\":{\"backgroundcolor\":\"#E5ECF6\",\"gridcolor\":\"white\",\"gridwidth\":2,\"linecolor\":\"white\",\"showbackground\":true,\"ticks\":\"\",\"zerolinecolor\":\"white\"},\"zaxis\":{\"backgroundcolor\":\"#E5ECF6\",\"gridcolor\":\"white\",\"gridwidth\":2,\"linecolor\":\"white\",\"showbackground\":true,\"ticks\":\"\",\"zerolinecolor\":\"white\"}},\"shapedefaults\":{\"line\":{\"color\":\"#2a3f5f\"}},\"ternary\":{\"aaxis\":{\"gridcolor\":\"white\",\"linecolor\":\"white\",\"ticks\":\"\"},\"baxis\":{\"gridcolor\":\"white\",\"linecolor\":\"white\",\"ticks\":\"\"},\"bgcolor\":\"#E5ECF6\",\"caxis\":{\"gridcolor\":\"white\",\"linecolor\":\"white\",\"ticks\":\"\"}},\"title\":{\"x\":0.05},\"xaxis\":{\"automargin\":true,\"gridcolor\":\"white\",\"linecolor\":\"white\",\"ticks\":\"\",\"title\":{\"standoff\":15},\"zerolinecolor\":\"white\",\"zerolinewidth\":2},\"yaxis\":{\"automargin\":true,\"gridcolor\":\"white\",\"linecolor\":\"white\",\"ticks\":\"\",\"title\":{\"standoff\":15},\"zerolinecolor\":\"white\",\"zerolinewidth\":2}}},\"scene\":{\"domain\":{\"x\":[0.0,1.0],\"y\":[0.0,1.0]},\"xaxis\":{\"title\":{\"text\":\"x\"}},\"yaxis\":{\"title\":{\"text\":\"y\"}},\"zaxis\":{\"title\":{\"text\":\"z\"}}},\"legend\":{\"tracegroupgap\":0},\"margin\":{\"t\":60}},                        {\"responsive\": true}                    ).then(function(){\n",
              "                            \n",
              "var gd = document.getElementById('a5f4957c-7155-4f8d-8f47-dadbb48fd986');\n",
              "var x = new MutationObserver(function (mutations, observer) {{\n",
              "        var display = window.getComputedStyle(gd).display;\n",
              "        if (!display || display === 'none') {{\n",
              "            console.log([gd, 'removed!']);\n",
              "            Plotly.purge(gd);\n",
              "            observer.disconnect();\n",
              "        }}\n",
              "}});\n",
              "\n",
              "// Listen for the removal of the full notebook cells\n",
              "var notebookContainer = gd.closest('#notebook-container');\n",
              "if (notebookContainer) {{\n",
              "    x.observe(notebookContainer, {childList: true});\n",
              "}}\n",
              "\n",
              "// Listen for the clearing of the current output cell\n",
              "var outputEl = gd.closest('.output');\n",
              "if (outputEl) {{\n",
              "    x.observe(outputEl, {childList: true});\n",
              "}}\n",
              "\n",
              "                        })                };                            </script>        </div>\n",
              "</body>\n",
              "</html>"
            ]
          },
          "metadata": {}
        }
      ],
      "source": [
        "import plotly.express as px\n",
        "sns.set(rc={'figure.figsize':(8,8)})\n",
        "z_ind = []\n",
        "for i in range(15):\n",
        "  z_ind.append(kernel_mt[i][0])\n",
        "fig = px.scatter_3d(x=x[:,0],y=x[:,1],z=z_ind)\n",
        "fig.show()"
      ]
    },
    {
      "cell_type": "markdown",
      "metadata": {
        "id": "wOYBZTsyLl7a"
      },
      "source": [
        "# Task 1: Kernel Discriminant Analysis\n",
        "\n",
        "We will be implementing Kernel Discriminant Analysis, a nonlinear extension to LDA based on the kernel trick, following the original paper by Mika, Rätsch, Weston, Schölkopf and Müller (PDF on StudIP). Note, this is the original notation from the paper, mind the difference betweeen the matrix $M$ and the vectors $M_1, M_2$.\n",
        "\n",
        "The goal of Kernel Discriminant Analysis is find a vector of $\\alpha$'s that maximizes\n",
        "$$ J(\\alpha) = \\frac{\\alpha^T M \\alpha}{\\alpha^T N \\alpha} $$\n",
        "where\n",
        "$$M := (M_1 - M_2)(M_1 - M_2)^T \\text{ with } (M_i)_j = \\frac{1}{l_i} \\sum_{k=1}^{l_i} \\mbox{k}(x_j, x_k^i)$$ and\n",
        "$$N= \\sum_{j=1,2} K_j (I - 1_{l_j}) K_j^T$$\n",
        "Here, the number of samples for class $j$ is denoted by $l_j$. In the definition of $N$, $(K_{j})_{n,m} = \\mbox{k}(x_n, x_m^j)$, $I$ is the identity matrix and $1_{l_j}$ is a matrix with each entry equal to $1/l_j$. $M_1, M_2$ have shape $(l_0 + l_1)$ each, $N$ and $M$ have shape $(l_0 + l_1) \\times (l_0 + l_1)$.\n",
        "\n",
        "We obtain the optimal solution by $\\alpha = N^{-1}(M_1 - M_0)$. Note that you may have to regularize $N^{-1}$ for numerical stability (see paper or Wikipedia).\n",
        "\n",
        "Prediction for an arbitrary sample $x$ is then carried out by building a weighted sum over it's kernel with the samples from the training set.\n",
        "\n",
        "1. Implement a function `kda(X, t, kernel)` that carries out Kernel Discriminant Analysis on the data $X,t$ and returns a vector `alpha`.\n",
        "2. Implement a function `def predict(x, X, alpha, kernel)`.\n",
        "3. Visualize results given a linear kernel and a Gaussian Radial Basis Function kernel.\n",
        "\n",
        "Use the following snippet as a starting point."
      ]
    },
    {
      "cell_type": "code",
      "execution_count": null,
      "metadata": {
        "id": "6OIfA0F-Ll7b"
      },
      "outputs": [],
      "source": [
        "def kda(X, t, kernel):\n",
        "    # l = [(t == 0).sum(), (t == 1).sum()]\n",
        "    # X_split = X[(t == 0)], X[(t == 1)]\n",
        "    # M = np.ones((2, len(X)))\n",
        "\n",
        "    # K = np.ones((len(X), l[0])), np.ones((len(X), l[1]))\n",
        "\n",
        "    # for i in range(len(X)):\n",
        "    #   for j in range(l[0]):\n",
        "    #     K[0][i][j] = kernel(X[i], X_split[0][j])\n",
        "\n",
        "    # for i in range(len(X)):\n",
        "    #   for j in range(l[1]):\n",
        "    #     K[1][i][j] = kernel(X[i], X_split[1][j])\n",
        "\n",
        "    # for i in range(len(X)):\n",
        "    #     M[0][i] = np.sum(K[0][i])\n",
        "    # M[0] = 1/l[0] * M[0]\n",
        "    \n",
        "    # for i in range(len(X)):\n",
        "    #     M[1][i] = np.sum(K[1][i])\n",
        "    # M[1] = 1/l[1] * M[1]\n",
        "\n",
        "    # M = np.dot((M[1] - M[0]), (M[1] - M[0]).T)\n",
        "\n",
        "    # I0 = np.identity(l[0])\n",
        "    # I1 = np.identity(l[1])\n",
        "    # I_0_in = I0/l[0]\n",
        "    # I_1_in = I1/l[1]\n",
        "\n",
        "    # N = sum(np.dot(np.dot(K[0], (I0 - I_0_in)), K[0].T), np.dot(np.dot(K[1], (I1 - I_1_in)), K[1].T))\n",
        "    # N = N + (0.001 * np.identity(N.shape[0]))\n",
        "    # alpha = np.linalg.eig(np.dot(np.linalg.inv(N), M))\n",
        "\n",
        "    # return alpha[0]\n",
        "    l = [(t == 0).sum(), (t == 1).sum()]\n",
        "    X_split = X[(t == 0)], X[(t == 1)]\n",
        "    M = np.ones((2, len(X)))\n",
        "    # ...\n",
        "    K = np.ones((len(X), l[0])), np.ones((len(X), l[1]))\n",
        "    # ...\n",
        "    for i in range(len(X)):\n",
        "      for j in range(l[0]):\n",
        "        K[0][i][j] = kernel(X[i], X_split[0][j])\n",
        "\n",
        "    for i in range(len(X)):\n",
        "      for j in range(l[1]):\n",
        "        K[1][i][j] = kernel(X[i], X_split[1][j])\n",
        "\n",
        "    N1 = np.dot(np.dot(K[0], np.eye(l[0]) - np.ones((l[0], l[0]))*(1 / float(l[0]))), K[0].T)\n",
        "    N2 = np.dot(np.dot(K[1], np.eye(l[1]) - np.ones((l[1], l[1]))*(1 / float(l[1]))), K[1].T)\n",
        "    N = N1 + N2 + np.diag(np.repeat(0.0001, l[0] + l[1]))\n",
        "    N_inv = np.linalg.inv(N)\n",
        "    M[0] = np.sum(K[0], axis=1) / float(l[0])\n",
        "    M[1] = np.sum(K[1], axis=1) / float(l[1])\n",
        "    M_d = M[1] - M[0]\n",
        "\n",
        "    return np.linalg.solve(N_inv, M_d)\n",
        "\n",
        "def predict(x, X, alpha, kernel):\n",
        "    # ...\n",
        "    kernel_arr = np.zeros((X.shape[0], x.shape[0]))\n",
        "    for i in range(X.shape[0]):\n",
        "      for j in range(x.shape[0]):\n",
        "        kernel_arr[i][j] = kernel(X[i], x[j])    \n",
        "    \n",
        "    alpha_T = alpha.reshape(len(alpha), 1).T\n",
        "    t_pred = np.dot(alpha_T, kernel_arr)\n",
        "    return t_pred\n",
        "\n",
        "def linear_kernel(x_n, x_m):\n",
        "    # ...\n",
        "    return np.dot(x_n,x_m)\n",
        "\n",
        "def rbf_kernel(a,b, gamma=5):\n",
        "    # ...\n",
        "    # x22 = list(X2)\n",
        "    # X2 = np.array([x22] * len(X1))\n",
        "    # X2 = X2.squeeze()\n",
        "    # s = []\n",
        "    # for i in X1:\n",
        "    #   s.append(list(np.full(len(X1), i)))\n",
        "    # k1 = np.array(s)\n",
        "    # k = np.power((k1 - X2),2)\n",
        "    # k = k - np.abs(2 * np.mat(X1) * np.mat(X2).T)\n",
        "    return np.exp(np.power(np.linalg.norm(a- b),2)*-1*gamma)"
      ]
    },
    {
      "cell_type": "code",
      "source": [
        "kda_1 = kda(X=X_2d, t=t_2d, kernel=rbf_kernel)\n",
        "t_pred_1 = predict(X_2d, X_2d, kda_1, rbf_kernel)\n",
        "kda_2 = kda(X=X_2d, t=t_2d, kernel=linear_kernel)\n",
        "t_pred_2 = predict(X_2d, X_2d, kda_2, linear_kernel)"
      ],
      "metadata": {
        "id": "9fT64eip7xY-"
      },
      "execution_count": null,
      "outputs": []
    },
    {
      "cell_type": "code",
      "source": [
        "t_pred_1"
      ],
      "metadata": {
        "colab": {
          "base_uri": "https://localhost:8080/"
        },
        "id": "dJUL1yRJvF8O",
        "outputId": "4824ef82-ed48-4c6f-e7af-8e0e193b5026"
      },
      "execution_count": null,
      "outputs": [
        {
          "output_type": "execute_result",
          "data": {
            "text/plain": [
              "array([[-131.63687641, -287.95926529, -100.81904104, -222.80630212,\n",
              "        -334.03294291, -187.12679688, -244.6062919 ,  -83.36253104,\n",
              "          48.03181942,   44.70230825,  -19.41117645,   47.78999407,\n",
              "        -158.09473057, -258.75629153, -319.64304373, -237.78978252,\n",
              "        -496.09964041, -405.55199687,  -53.06419193,  -12.4657292 ,\n",
              "        -149.84151685, -201.33686011,  -65.16006946, -462.51482195,\n",
              "          25.41568531, -272.60102237, -435.36368771,  -26.66932926,\n",
              "           6.73490912, -120.92590012, -467.80780586,   11.89031734,\n",
              "        -168.89222152, -462.12051296, -372.66411171,   19.71983238,\n",
              "          30.61101439, -267.81321398,   30.28094212, -238.94338508,\n",
              "        -175.28390666,   35.00778656, -493.83368347,   -1.58176964,\n",
              "        -477.75659539, -488.37646941,   48.09347528, -220.26981142,\n",
              "        -234.75731784,   40.91674467,   64.62151848, -453.59659214,\n",
              "           4.2570872 ,  -77.82368153,   28.7397711 , -332.45597857,\n",
              "        -496.59194432,  -42.29652743,    6.15501791, -365.44523093,\n",
              "           6.45065282,  -90.37795918, -163.84176508, -374.53038423,\n",
              "        -173.19452656,  -46.70192873, -156.40570364,    5.90950018,\n",
              "        -139.541327  ,   43.40351842,   23.72736238, -281.95763325,\n",
              "        -419.98833591,    9.37032989, -174.63847446, -203.89247793,\n",
              "          16.37492431,   46.75124933, -153.5692563 ,   64.88775497,\n",
              "         -22.97349682,    4.72077113,   12.54169714, -250.26378219,\n",
              "        -181.6443407 ,  -81.99632209,   59.24264003, -452.10170189,\n",
              "        -241.18976579, -250.93084539, -381.98493186,   33.22688833,\n",
              "          30.90184491,   -1.98625954, -126.56183839,   33.58657834,\n",
              "          -0.63950551,   12.4737543 ,    5.33846731,   60.75318449,\n",
              "          -8.09987409,   36.69675398,   -7.45895151,   23.18244115,\n",
              "          -8.57331303,  -13.03565814,   -8.35807185,   -3.24556965,\n",
              "           0.932191  ,   -3.72329096,   -6.76557022,   22.95150318,\n",
              "          24.14804713,  -13.25557914,  -13.86446014,  134.91366416,\n",
              "          -7.98380383,   -7.32794017,    6.49249328,   30.66700161,\n",
              "          39.99728294,  -10.21732314,   23.16460671,   84.58218072,\n",
              "          -3.93049516,  -13.79838049,   -7.99757778,   34.93962786,\n",
              "          11.54139157,  -10.09550318,  134.90988458,  136.7036732 ,\n",
              "         111.42056489,   -0.74352951,   36.18344149,  -13.17612215,\n",
              "          -7.84800927,   -2.80731099,   -8.8930069 ,  -13.92477272,\n",
              "          43.81322844,   73.08562424,   -2.3265662 ,   -2.25901438,\n",
              "          27.22665251,  -14.65002424,   -9.0477216 ,   13.54687462,\n",
              "          50.02888182,  -14.46069824,  116.97914813,  142.24488593,\n",
              "          -2.15935012,  -13.35225916,  143.89517495,   -7.49385   ,\n",
              "         -11.79541666,  137.57048366,   14.26310991,   41.74456784,\n",
              "          90.78669245,   -6.49251645,   34.72583047,   24.35478332,\n",
              "           5.20574818,  134.35831819,   19.89600038,  -10.2199763 ,\n",
              "          12.34317438,   49.44377196,  -10.22349001,   -9.00442497,\n",
              "          45.90442972,   62.2949223 ,   37.8680398 ,   43.69503808,\n",
              "          32.55279341,  -10.40014104,   44.62544682,  135.05201282,\n",
              "         -10.68308105,  -11.07659345,  -13.28486126,    0.75373089,\n",
              "          50.61869488,  -13.32158343,   19.47434254,   36.53079065,\n",
              "          86.12579421,   39.93560321,  -10.97721165,   39.46160748,\n",
              "         -14.67622471,  -13.50725548,   25.84646764,   -9.89131643,\n",
              "          21.06310125,    1.40743341,  142.93139686,  -14.13974769,\n",
              "          32.03582744,   19.88238583,   -9.94324112,   10.75107957,\n",
              "          41.70118511,   14.73885753,    5.72259484,  -13.84470133,\n",
              "          -6.726191  ,  -12.18472324,   -0.62450879,   36.28927762,\n",
              "         -11.15918147,   30.91970679,  -13.22297624,   36.15398406,\n",
              "         -14.03852508,   -8.56391888,   44.35424986,  -10.24237518,\n",
              "           6.46191362,   -0.81612688,  -13.00321237,  133.5746245 ,\n",
              "          51.02179223,   -2.03134242,   -9.93420598,  116.19267269,\n",
              "         -10.20714224,  -10.47397371,  128.07504277,   80.04310393,\n",
              "         -11.1921022 ,    6.13331586,   -9.40451829,   -7.25140978,\n",
              "          31.22510119,   41.03736704,   -1.0342852 ,   21.50250662,\n",
              "         -13.58662611,   29.9787887 ,   29.07801759,   -9.61082705,\n",
              "           0.99332892,   -6.32691362,  -11.25244176,    3.8977233 ,\n",
              "           0.62633326,  -11.3722868 ]])"
            ]
          },
          "metadata": {},
          "execution_count": 144
        }
      ]
    },
    {
      "cell_type": "code",
      "source": [
        "# rbf = rbf_kernel(X_2d[:,0],X_2d[:,1])\n",
        "# z_ind = []\n",
        "# for i in range(len(X_2d[:,0])):\n",
        "#   z_ind.append(rbf[i][i])\n",
        "# fig = px.scatter_3d(x=X_2d[:,0],y=X_2d[:,1],z=z_ind, color=t_2d)\n",
        "# fig.show()"
      ],
      "metadata": {
        "id": "6VozXXP4NPBx"
      },
      "execution_count": null,
      "outputs": []
    },
    {
      "cell_type": "code",
      "source": [
        "# z_ind = []\n",
        "# for i in range(len(X_2d[:,0])):\n",
        "#   z_ind.append(rbf[i][i])\n",
        "# fig = px.scatter_3d(x=X_2d[:,0],y=X_2d[:,1],z=(X_2d[:,0]*X_2d[:,1]), color=t_2d)\n",
        "# fig.show()"
      ],
      "metadata": {
        "colab": {
          "base_uri": "https://localhost:8080/",
          "height": 542
        },
        "id": "KO3KnWhwPm0w",
        "outputId": "c9b8344d-ba68-4981-c0c0-c812d4414500"
      },
      "execution_count": null,
      "outputs": [
        {
          "output_type": "display_data",
          "data": {
            "text/html": [
              "<html>\n",
              "<head><meta charset=\"utf-8\" /></head>\n",
              "<body>\n",
              "    <div>            <script src=\"https://cdnjs.cloudflare.com/ajax/libs/mathjax/2.7.5/MathJax.js?config=TeX-AMS-MML_SVG\"></script><script type=\"text/javascript\">if (window.MathJax) {MathJax.Hub.Config({SVG: {font: \"STIX-Web\"}});}</script>                <script type=\"text/javascript\">window.PlotlyConfig = {MathJaxConfig: 'local'};</script>\n",
              "        <script src=\"https://cdn.plot.ly/plotly-2.8.3.min.js\"></script>                <div id=\"31c15242-386e-4b7e-bec5-433963ee6462\" class=\"plotly-graph-div\" style=\"height:525px; width:100%;\"></div>            <script type=\"text/javascript\">                                    window.PLOTLYENV=window.PLOTLYENV || {};                                    if (document.getElementById(\"31c15242-386e-4b7e-bec5-433963ee6462\")) {                    Plotly.newPlot(                        \"31c15242-386e-4b7e-bec5-433963ee6462\",                        [{\"hovertemplate\":\"x=%{x}<br>y=%{y}<br>z=%{z}<br>color=%{marker.color}<extra></extra>\",\"legendgroup\":\"\",\"marker\":{\"color\":[0.0,0.0,0.0,0.0,0.0,0.0,0.0,0.0,0.0,0.0,0.0,0.0,0.0,0.0,0.0,0.0,0.0,0.0,0.0,0.0,0.0,0.0,0.0,0.0,0.0,0.0,0.0,0.0,0.0,0.0,0.0,0.0,0.0,0.0,0.0,0.0,0.0,0.0,0.0,0.0,0.0,0.0,0.0,0.0,0.0,0.0,0.0,0.0,0.0,0.0,0.0,0.0,0.0,0.0,0.0,0.0,0.0,0.0,0.0,0.0,0.0,0.0,0.0,0.0,0.0,0.0,0.0,0.0,0.0,0.0,0.0,0.0,0.0,0.0,0.0,0.0,0.0,0.0,0.0,0.0,0.0,0.0,0.0,0.0,0.0,0.0,0.0,0.0,0.0,0.0,0.0,0.0,0.0,0.0,0.0,0.0,0.0,0.0,0.0,0.0,1.0,1.0,1.0,1.0,1.0,1.0,1.0,1.0,1.0,1.0,1.0,1.0,1.0,1.0,1.0,1.0,1.0,1.0,1.0,1.0,1.0,1.0,1.0,1.0,1.0,1.0,1.0,1.0,1.0,1.0,1.0,1.0,1.0,1.0,1.0,1.0,1.0,1.0,1.0,1.0,1.0,1.0,1.0,1.0,1.0,1.0,1.0,1.0,1.0,1.0,1.0,1.0,1.0,1.0,1.0,1.0,1.0,1.0,1.0,1.0,1.0,1.0,1.0,1.0,1.0,1.0,1.0,1.0,1.0,1.0,1.0,1.0,1.0,1.0,1.0,1.0,1.0,1.0,1.0,1.0,1.0,1.0,1.0,1.0,1.0,1.0,1.0,1.0,1.0,1.0,1.0,1.0,1.0,1.0,1.0,1.0,1.0,1.0,1.0,1.0,1.0,1.0,1.0,1.0,1.0,1.0,1.0,1.0,1.0,1.0,1.0,1.0,1.0,1.0,1.0,1.0,1.0,1.0,1.0,1.0,1.0,1.0,1.0,1.0,1.0,1.0,1.0,1.0,1.0,1.0,1.0,1.0,1.0,1.0,1.0,1.0,1.0,1.0,1.0,1.0,1.0,1.0,1.0,1.0,1.0,1.0,1.0,1.0,1.0,1.0],\"coloraxis\":\"coloraxis\",\"symbol\":\"circle\"},\"mode\":\"markers\",\"name\":\"\",\"scene\":\"scene\",\"showlegend\":false,\"x\":[0.9997323004393914,0.3358344651899491,-0.22526787404353815,0.24967856129566807,0.601338533536506,-0.15772478386942773,0.6210730703516522,0.7791633319631036,-0.10552635803403665,0.37367138536360966,-0.10242708855922616,0.06630455519075668,0.9402258911090575,0.06751759864653453,0.1126037150145349,0.8200766418368648,0.3435665772043727,0.20124366034094404,0.2783616040588131,-0.6207489802468649,-0.13512625852610943,0.7504248627464871,-0.2977542475012745,0.4760151029037051,-0.0863114332555327,0.3940836879736177,0.43352854245287187,0.12175813094790355,0.04613800168550769,0.3865090910240561,0.34949021748934217,-0.532715549414662,0.4878855333422241,0.21947192419841408,0.07614295487348391,-0.13901557998428832,0.7829587548324957,0.3568715814372249,0.07377072930293949,0.34165812068205037,0.4019009859197824,-0.035671302510905056,0.3058918228448556,-0.5271444222473223,0.4421454676714268,0.2812441105133295,0.58100664185506,0.65239445752898,0.5424601041680122,0.3226890132714739,0.2615313421452185,0.3622191595749595,1.3420712145080096,-0.3511714259027085,0.19022998897430524,0.1802601899379148,0.3703340865147228,-0.19382733452657858,0.1544499943511413,0.5940770538912543,-0.1578423880441413,-0.24684805740181898,0.8001451269226261,0.21583259688506645,0.5257087707161712,0.7676204201500514,0.9490849685392884,1.0448038348212336,-0.023392232828637616,0.6054046951381149,0.41806370441942353,0.035357348105759856,0.4299310579387191,0.883665707552187,0.9088921034826132,0.7468983706085086,0.36582269948817925,-0.1155497403705541,0.9256562855073274,0.2799237103667292,0.4814181463723468,0.2527520427407379,-0.24290131736473602,0.7635619027310558,0.7821818495142363,0.2760332695064517,0.30693046010191605,0.39624040031108965,0.6899385894223475,0.38326383267000713,0.20321379322667799,0.32558880858251626,0.005432683486901624,-0.7033706794839443,0.4058634693281809,0.041544456747763636,0.9677430876347826,1.0788236929328063,0.7498480639721501,0.13314421888061467,3.635267768667517,0.6435463316755277,1.2887970177520316,-3.1195521395675336,3.7054499711325066,2.107381808599313,3.7274227086426226,1.158793454873508,-3.487711161988069,1.6518948847989918,1.4183619487991086,0.8204313599902582,-2.9690969819563016,-1.6535976613513212,2.082609236063017,2.941784622499135,0.07991689264857227,1.6263994683637604,-3.1834723238510203,0.8693734354834239,2.546981157338166,1.4778458679475888,0.41513778208669283,2.7233057749127214,1.8496806102898091,-1.7752563467473208,3.768170367082293,0.5559254373677964,1.0484799416637145,-0.07766316357729286,2.9358164794312422,2.823740888255527,2.6222746891837954,1.113811661674868,0.6452478949499136,-1.64682692830745,3.7069838506675215,2.2593921682020826,0.012336897114063383,2.053209273671987,-2.8328617721128015,3.174399868132741,-3.4318512448569503,-2.0462714832423634,2.5822862012701417,-1.4659554969740625,-0.11821268146883446,1.131377363772125,-2.684607707150922,-1.4642467557146661,2.917311584212289,2.9167194155170417,0.1147309222789521,-1.756118482756667,2.86772221551778,-0.015205493362014266,-1.255838387222215,2.9759423476155957,-2.2281453702518297,2.409762375471767,2.5547772304807763,0.1718780209798627,-2.548928226687217,3.3852069684293715,-3.3216757101972663,2.914137472966198,0.5605422436052727,-0.9134728678801243,1.0624005956694766,-2.8062691110560896,-0.7034437851832349,-1.082642426656136,-2.6302214976804486,2.6877435741058013,-3.0007916572247337,3.4164518900971776,-2.512164654125975,-0.45687975356059685,-2.5604001076480207,2.859641736484676,-0.16248056618326245,-0.7603654737644017,-1.692914929064683,-3.3805454212837374,-2.724027569328154,2.10088407126766,-2.4274205489614795,0.6291117312137438,3.2279775867997733,-2.9581446841757195,-0.35705339445494033,-2.593755441171141,-1.4762155934984555,1.99144761664994,0.956968916675212,1.5916212073176181,-2.3112528566601735,-3.2539531443837104,2.862538780611171,-1.3583071635164439,0.787760694246014,3.432203889199334,-0.6349124515767448,-2.292923578699274,-2.518085922161638,0.9410232108951151,-3.34546691266505,-1.2926812836571053,3.622219863446796,2.0477960132119675,-2.1915818136039764,0.6430127148057299,-0.4539872622610308,0.8561782954710813,-1.3573834024840337,-2.926206859169897,-1.4098364275469333,3.7242039301273397,-2.52000334641106,-0.2795759565645808,1.0217753257413902,-3.490274496170484,-1.860268156417899,2.7913376962926773,-2.7171163521050943,-3.633659394608522,1.4304094464881478,2.7978605027310417,-1.0894419304244463,-0.7781163785295098,2.73628990407021,3.2591423097448793,-0.37126917089520717,3.5813501166489745,1.4924107335808747,1.912177971516817,0.586404860296426,-2.75500472265573,2.319996045533311,-2.980728431647968,-1.2402156102609179,0.48529638432496824,0.9242961155315079,-0.31591139609582974,2.3588729969565154,-1.8980656634140698,-0.5823326875988162,2.304255103166523,0.36283924417334656,-1.903604926740746],\"y\":[-1.2229428206276072,-1.8229056600832378,-0.9756006457997519,-1.9147076303089003,-1.6128753741918438,-1.3638712115934235,-0.8932699103440047,-0.674592622845531,-0.014228376123519126,0.4355208257753129,-0.5790987702494242,0.3653147721919803,-1.4784216072314076,-1.704926827108862,-1.0353596097902067,-1.4153417000681985,-1.347161999502251,-1.5354804269089146,-0.5383746647356287,-1.2900108391049285,-0.9936546485481659,-0.9248912710011864,-1.7441649376062487,-1.214812880073792,-2.5862832783151277,-1.8529754603855433,-1.1034604816050013,-0.5172564898401584,-0.4347060996739739,-2.1382852903255407,-1.4709254033169823,0.19109786514591076,-0.7263082444334864,-1.256566547503367,-1.355488637640029,-2.5141602123102373,-0.10720048717106823,-0.8527468783838336,-2.8186987454390087,-1.910090758876374,-2.030354299048984,0.46950404600165285,-1.3029348973567956,-0.6868223368708606,-1.2326794040193925,-1.3001610147774576,0.052468989215023853,-1.8391083618909176,-1.8844496588120618,-0.23076683236558926,0.005124334449656098,-1.123939951197844,-2.5920875812825948,-1.2562401300912835,-2.7359902321798346,-0.9975075929161417,-1.3378280449463595,-0.7164265083049421,-0.41177286598879725,-1.5352513842577094,-0.4844575883389707,-0.969166897834883,-1.824194980473636,-1.6165806940074208,-2.0155150319900113,-2.2484907824513316,-1.4388671653974139,-0.4179188775583039,-1.8885833006195392,-0.07525818313128485,1.0107388158865014,-1.0587363218811665,-1.0729422679971212,-2.7914432456202336,-1.1542388332984252,-0.9267469690361207,-0.33472621590684704,-0.05406621148624169,-1.0764531979224001,0.031989727081886965,-2.4065600504241624,-2.4945454731988894,-0.4572135372908305,-1.078064645564069,-1.790406584098871,-2.208669308294734,0.24433505478240436,-1.125122046338168,-1.7419648225362037,-1.891736900996544,-1.5905024175290938,0.625277830962361,-2.7769805710827553,-1.6940896614093361,-0.655839906918535,-0.30973464401431494,-0.4506611926090568,-0.3204430725042239,-2.590921867426923,-0.07020003461207003,-3.9288046946016046,1.3460653037551287,0.388418474062296,-3.050094125315649,-3.8482898703696446,-1.3451920867895737,-3.799269551318123,0.4752404806620678,-3.281547266408115,-0.17485059532463398,0.5961820081825859,0.994155340782914,-3.171243330813898,-0.33884516416807164,-1.243745996630689,-3.0781653032575593,2.150683478279782,0.04851015409103865,-3.3726190745205575,1.4431881284279413,-2.4509433725243306,0.31428504082224595,1.582907821689343,-2.6118536236397136,-0.5321420101359375,-0.3226970391862889,-3.7575539399264795,1.351624666682069,0.9108387300651026,2.147901978340002,-2.865077410192388,-3.0633081321323488,-2.9053129873226315,0.5658928258484808,1.421229289702688,0.02947449199107144,-3.7627054679969305,-1.998419393735888,2.243303411479079,-1.1997380413276808,-2.935570212851782,-3.2679607536720416,-3.703372869881497,-1.1755677241222688,-2.340347536308987,0.451384496019827,2.3025018251484464,1.0734855399804122,-2.8006773312897213,0.4826783378105528,-3.1903548930741117,-3.0006398170962947,1.8640022883735514,-0.11664897060787482,-2.9649081875997645,2.395398883952634,0.7437350159044955,-2.996444078675608,-2.2906853391306456,-2.5897833750221233,-2.8090756973511244,2.2930526764726458,-2.416345412303573,-3.416594632088305,-3.275806529046348,-3.0932574732401377,1.736437621971691,1.3359057006020714,0.946295141778128,-2.7424040453753697,1.6592578159255305,1.1098456217420236,-2.569993597950613,-2.5173286778603123,-2.8277897024732965,-3.127996624758138,-2.400226746587358,1.983983484805623,-2.818762531174043,-2.840766743184667,2.118136290033124,1.2744322374879697,-0.37532366043625065,-3.410956064727424,-2.695472697236163,-1.1276369692632453,-2.237943398030051,1.373391055702947,-2.9387442374477035,-2.701310100325945,1.7517269611237434,-2.4710181225813623,0.2927851112846398,-1.1492482049967598,1.2106569396768627,0.26559599950965884,-2.3618903968644287,-3.499018187055707,-3.005759882411238,0.2552380333509747,1.5038133007876544,-3.4161154331037746,1.2287422764778677,-2.1364176600107565,-2.5640617886120554,0.8935993607321226,-3.2247235830809973,0.590425386084257,-3.756869528963524,-1.412620988076978,-1.6248391558778732,1.4135234157907535,1.8694517198157183,1.2256682669420522,0.17652029861716811,-3.0123345428298527,0.5717692054924908,-3.9170041023527267,-2.7045468176578167,1.7597297869992965,0.7404804626944057,-3.4124716475905807,-0.34956858042349825,-3.0672804743255755,-2.7385765435153506,-3.8918376771608747,0.34459668548437095,-2.7387122268235604,0.7735508251300103,1.1753934089064666,-2.848295736262903,-3.0161962557864976,1.7767539995571875,-3.457529581358612,0.20305851258433094,-0.7829682053182518,1.5491996040602243,-2.9930249445914074,-2.0499770173531844,-3.2054307805076587,0.39912157618657074,1.4937306321382935,1.3338464003364092,2.189989127478841,-2.0955633878202815,-0.7867501107827415,1.5659248877237717,-2.2023223022777807,2.0312726353556627,-0.4796283462628317],\"z\":[-1.2226154393718758,-0.6121945474457853,0.219771483394813,-0.47806144643736415,-0.9698841122936668,0.21511629207430727,-0.554785885870096,-0.5256178357340532,0.001501468713053418,0.16274167032216447,0.05931540102487674,0.024222033474801858,-1.3900502730940352,-0.11511256523444571,-0.11658533843837648,-1.1606886684436073,-0.46283983710878723,-0.30900570149302536,-0.1498628352604353,0.8007729128817869,0.13426883492538988,-0.6940614050964893,0.5193325185150559,-0.5782692781170725,0.22322581655619644,-0.730227403153347,-0.47838161424456027,-0.06298018342361095,-0.02005647075945828,-0.8264667039138347,-0.5140740391158505,-0.10180080422317285,-0.354355285206286,-0.2757810780639218,-0.10321091016734492,0.3495074400877291,-0.0839335599528965,-0.3043211270544956,-0.20793746213631625,-0.6525980190098534,-0.8160013945542554,-0.016747820855018844,-0.39855713080064503,0.36205456395634555,-0.54502361157909,-0.3656626281251939,0.03048483122535037,-1.1998241020928362,-1.0222387582185661,-0.07446592143183563,0.001340174066219539,-0.40711258453560406,-3.478766128323061,0.44115563776036004,-0.5204673917013768,-0.17981090816357587,-0.4954433269389876,0.13886304048893064,-0.063598316825923,-0.91205761934229,0.07646794264952868,0.23923696602868802,-1.4596207241826948,-0.3489108092618846,-1.0595739298274331,-1.725987439128809,-1.3656071984034195,-0.4366432459171015,0.044178180284369165,-0.04556165741524393,0.42255321357001246,-0.03743410868496422,-0.461291204387171,-2.466702670732777,-1.049078561117923,-0.6921858011394526,-0.1224504478925059,0.006247336700054697,-0.9964256687113328,0.00895468309838084,-1.1585616786089417,-0.63050146406068,0.11105777052493358,-0.8231690920339818,-1.400423533332921,-0.6096662104271486,0.07499387078339023,-0.445818810039868,-1.2018487524839783,-0.7250343350792172,-0.3232120294022887,0.20358346401609512,-0.015086456491967926,1.19157299625221,-0.26618145994582787,-0.012867757521536674,-0.4361242540126621,-0.3457015788537418,-1.942797746193186,-0.009346728773816178,-14.28225707567484,0.866255388427318,0.500592571011282,9.514927654510798,-14.259645589070717,-2.834833332772096,-14.16148360183764,0.5507055584821441,11.445089029643018,-0.2888348040208214,0.8456018749648186,0.8156362182801047,9.415729002568595,0.5603135710285277,-2.5902368998994745,-9.055299354633474,0.17187594065474335,0.07889688882390936,10.736639482628236,1.2546694212602922,-6.242506587522327,0.46446484893689544,0.6571248423437921,-7.11287605648475,-0.9842927580690868,0.5728699668920283,-14.15910340914428,0.7514025339823313,0.9549961385637106,-0.1668128626918105,-8.411341475688998,-8.649988426027777,-7.618528710813098,0.630298028688183,0.9170452074218204,-0.04853938710907871,-13.948288404683,-4.5152131269900195,0.02767540338304479,-2.46331327243106,8.316064635340854,-10.373814185519501,12.709424793672271,2.4055307104915244,-6.043447149187269,-0.6617095831891322,-0.27218491483768326,1.2145172402705349,7.518719948823262,-0.7067601901928496,-9.307259287313464,-8.752024413498267,0.2138587016751748,0.20484941327902817,-8.502533076550403,-0.036423221829318154,-0.93401098289419,-8.91724482599274,5.1039799330876905,-6.240762537750602,-7.176562630289561,0.39412535603469573,6.159091026846738,-11.565879956843716,10.88116697883887,-9.014177516301821,0.9733466405006161,-1.2203136115463808,1.005344522304215,7.695923762572162,-1.1671945986295225,-1.2015659571364725,6.759652410230826,-6.765933977831307,8.48560774756788,-10.686649980872533,6.029764794664545,-0.9064418856062871,7.217159888252227,-8.123575142428518,-0.344155983657897,-0.9690342720381666,0.6353910279837325,11.530891906814288,7.342541939642628,-2.369034546897692,5.432429791790826,0.8640164246867521,-9.486200531818177,7.990866113589375,-0.6254600576274699,6.409216700677907,-0.4322139468225659,-2.288667598780019,1.1585610600278948,0.42272822539829275,5.458925926871141,11.385641232025707,-8.604104228607442,-0.34669164910247796,1.1846450098448726,-11.724804675452642,-0.7801437711145534,4.898642426588192,6.456527893456606,0.8408977396899643,10.788206049688162,-0.7632318459871393,-13.608207432189685,-2.892759627563586,3.5609679440535835,0.9089135290290808,-0.8487072682083137,1.0493905676034405,-0.23960572354446932,8.81471400134313,-0.8061010540528816,-14.587722072306937,6.81546703102308,-0.4919781384955143,0.7566046659747118,11.910462760490276,0.6502912986460432,-8.561815613087463,7.4410311078770075,14.14161253790702,0.4929143541453494,-7.662534767776218,-0.8427387042110617,-0.914592862685755,-7.793762866942407,-9.830212831727863,-0.6596539843003403,-12.382623969515945,0.3030467037258226,-1.4971745546076176,0.9084581773902143,8.245797857375733,-4.75593857369356,9.554518663138715,-0.49499680917852723,0.7249020749321631,1.2328690465466277,-0.6918425226965287,-4.943167888939976,1.4933033709639372,-0.9118892484460585,-5.074712403841022,0.7370254277224505,0.9130228829504429],\"type\":\"scatter3d\"}],                        {\"template\":{\"data\":{\"bar\":[{\"error_x\":{\"color\":\"#2a3f5f\"},\"error_y\":{\"color\":\"#2a3f5f\"},\"marker\":{\"line\":{\"color\":\"#E5ECF6\",\"width\":0.5},\"pattern\":{\"fillmode\":\"overlay\",\"size\":10,\"solidity\":0.2}},\"type\":\"bar\"}],\"barpolar\":[{\"marker\":{\"line\":{\"color\":\"#E5ECF6\",\"width\":0.5},\"pattern\":{\"fillmode\":\"overlay\",\"size\":10,\"solidity\":0.2}},\"type\":\"barpolar\"}],\"carpet\":[{\"aaxis\":{\"endlinecolor\":\"#2a3f5f\",\"gridcolor\":\"white\",\"linecolor\":\"white\",\"minorgridcolor\":\"white\",\"startlinecolor\":\"#2a3f5f\"},\"baxis\":{\"endlinecolor\":\"#2a3f5f\",\"gridcolor\":\"white\",\"linecolor\":\"white\",\"minorgridcolor\":\"white\",\"startlinecolor\":\"#2a3f5f\"},\"type\":\"carpet\"}],\"choropleth\":[{\"colorbar\":{\"outlinewidth\":0,\"ticks\":\"\"},\"type\":\"choropleth\"}],\"contour\":[{\"colorbar\":{\"outlinewidth\":0,\"ticks\":\"\"},\"colorscale\":[[0.0,\"#0d0887\"],[0.1111111111111111,\"#46039f\"],[0.2222222222222222,\"#7201a8\"],[0.3333333333333333,\"#9c179e\"],[0.4444444444444444,\"#bd3786\"],[0.5555555555555556,\"#d8576b\"],[0.6666666666666666,\"#ed7953\"],[0.7777777777777778,\"#fb9f3a\"],[0.8888888888888888,\"#fdca26\"],[1.0,\"#f0f921\"]],\"type\":\"contour\"}],\"contourcarpet\":[{\"colorbar\":{\"outlinewidth\":0,\"ticks\":\"\"},\"type\":\"contourcarpet\"}],\"heatmap\":[{\"colorbar\":{\"outlinewidth\":0,\"ticks\":\"\"},\"colorscale\":[[0.0,\"#0d0887\"],[0.1111111111111111,\"#46039f\"],[0.2222222222222222,\"#7201a8\"],[0.3333333333333333,\"#9c179e\"],[0.4444444444444444,\"#bd3786\"],[0.5555555555555556,\"#d8576b\"],[0.6666666666666666,\"#ed7953\"],[0.7777777777777778,\"#fb9f3a\"],[0.8888888888888888,\"#fdca26\"],[1.0,\"#f0f921\"]],\"type\":\"heatmap\"}],\"heatmapgl\":[{\"colorbar\":{\"outlinewidth\":0,\"ticks\":\"\"},\"colorscale\":[[0.0,\"#0d0887\"],[0.1111111111111111,\"#46039f\"],[0.2222222222222222,\"#7201a8\"],[0.3333333333333333,\"#9c179e\"],[0.4444444444444444,\"#bd3786\"],[0.5555555555555556,\"#d8576b\"],[0.6666666666666666,\"#ed7953\"],[0.7777777777777778,\"#fb9f3a\"],[0.8888888888888888,\"#fdca26\"],[1.0,\"#f0f921\"]],\"type\":\"heatmapgl\"}],\"histogram\":[{\"marker\":{\"pattern\":{\"fillmode\":\"overlay\",\"size\":10,\"solidity\":0.2}},\"type\":\"histogram\"}],\"histogram2d\":[{\"colorbar\":{\"outlinewidth\":0,\"ticks\":\"\"},\"colorscale\":[[0.0,\"#0d0887\"],[0.1111111111111111,\"#46039f\"],[0.2222222222222222,\"#7201a8\"],[0.3333333333333333,\"#9c179e\"],[0.4444444444444444,\"#bd3786\"],[0.5555555555555556,\"#d8576b\"],[0.6666666666666666,\"#ed7953\"],[0.7777777777777778,\"#fb9f3a\"],[0.8888888888888888,\"#fdca26\"],[1.0,\"#f0f921\"]],\"type\":\"histogram2d\"}],\"histogram2dcontour\":[{\"colorbar\":{\"outlinewidth\":0,\"ticks\":\"\"},\"colorscale\":[[0.0,\"#0d0887\"],[0.1111111111111111,\"#46039f\"],[0.2222222222222222,\"#7201a8\"],[0.3333333333333333,\"#9c179e\"],[0.4444444444444444,\"#bd3786\"],[0.5555555555555556,\"#d8576b\"],[0.6666666666666666,\"#ed7953\"],[0.7777777777777778,\"#fb9f3a\"],[0.8888888888888888,\"#fdca26\"],[1.0,\"#f0f921\"]],\"type\":\"histogram2dcontour\"}],\"mesh3d\":[{\"colorbar\":{\"outlinewidth\":0,\"ticks\":\"\"},\"type\":\"mesh3d\"}],\"parcoords\":[{\"line\":{\"colorbar\":{\"outlinewidth\":0,\"ticks\":\"\"}},\"type\":\"parcoords\"}],\"pie\":[{\"automargin\":true,\"type\":\"pie\"}],\"scatter\":[{\"marker\":{\"colorbar\":{\"outlinewidth\":0,\"ticks\":\"\"}},\"type\":\"scatter\"}],\"scatter3d\":[{\"line\":{\"colorbar\":{\"outlinewidth\":0,\"ticks\":\"\"}},\"marker\":{\"colorbar\":{\"outlinewidth\":0,\"ticks\":\"\"}},\"type\":\"scatter3d\"}],\"scattercarpet\":[{\"marker\":{\"colorbar\":{\"outlinewidth\":0,\"ticks\":\"\"}},\"type\":\"scattercarpet\"}],\"scattergeo\":[{\"marker\":{\"colorbar\":{\"outlinewidth\":0,\"ticks\":\"\"}},\"type\":\"scattergeo\"}],\"scattergl\":[{\"marker\":{\"colorbar\":{\"outlinewidth\":0,\"ticks\":\"\"}},\"type\":\"scattergl\"}],\"scattermapbox\":[{\"marker\":{\"colorbar\":{\"outlinewidth\":0,\"ticks\":\"\"}},\"type\":\"scattermapbox\"}],\"scatterpolar\":[{\"marker\":{\"colorbar\":{\"outlinewidth\":0,\"ticks\":\"\"}},\"type\":\"scatterpolar\"}],\"scatterpolargl\":[{\"marker\":{\"colorbar\":{\"outlinewidth\":0,\"ticks\":\"\"}},\"type\":\"scatterpolargl\"}],\"scatterternary\":[{\"marker\":{\"colorbar\":{\"outlinewidth\":0,\"ticks\":\"\"}},\"type\":\"scatterternary\"}],\"surface\":[{\"colorbar\":{\"outlinewidth\":0,\"ticks\":\"\"},\"colorscale\":[[0.0,\"#0d0887\"],[0.1111111111111111,\"#46039f\"],[0.2222222222222222,\"#7201a8\"],[0.3333333333333333,\"#9c179e\"],[0.4444444444444444,\"#bd3786\"],[0.5555555555555556,\"#d8576b\"],[0.6666666666666666,\"#ed7953\"],[0.7777777777777778,\"#fb9f3a\"],[0.8888888888888888,\"#fdca26\"],[1.0,\"#f0f921\"]],\"type\":\"surface\"}],\"table\":[{\"cells\":{\"fill\":{\"color\":\"#EBF0F8\"},\"line\":{\"color\":\"white\"}},\"header\":{\"fill\":{\"color\":\"#C8D4E3\"},\"line\":{\"color\":\"white\"}},\"type\":\"table\"}]},\"layout\":{\"annotationdefaults\":{\"arrowcolor\":\"#2a3f5f\",\"arrowhead\":0,\"arrowwidth\":1},\"autotypenumbers\":\"strict\",\"coloraxis\":{\"colorbar\":{\"outlinewidth\":0,\"ticks\":\"\"}},\"colorscale\":{\"diverging\":[[0,\"#8e0152\"],[0.1,\"#c51b7d\"],[0.2,\"#de77ae\"],[0.3,\"#f1b6da\"],[0.4,\"#fde0ef\"],[0.5,\"#f7f7f7\"],[0.6,\"#e6f5d0\"],[0.7,\"#b8e186\"],[0.8,\"#7fbc41\"],[0.9,\"#4d9221\"],[1,\"#276419\"]],\"sequential\":[[0.0,\"#0d0887\"],[0.1111111111111111,\"#46039f\"],[0.2222222222222222,\"#7201a8\"],[0.3333333333333333,\"#9c179e\"],[0.4444444444444444,\"#bd3786\"],[0.5555555555555556,\"#d8576b\"],[0.6666666666666666,\"#ed7953\"],[0.7777777777777778,\"#fb9f3a\"],[0.8888888888888888,\"#fdca26\"],[1.0,\"#f0f921\"]],\"sequentialminus\":[[0.0,\"#0d0887\"],[0.1111111111111111,\"#46039f\"],[0.2222222222222222,\"#7201a8\"],[0.3333333333333333,\"#9c179e\"],[0.4444444444444444,\"#bd3786\"],[0.5555555555555556,\"#d8576b\"],[0.6666666666666666,\"#ed7953\"],[0.7777777777777778,\"#fb9f3a\"],[0.8888888888888888,\"#fdca26\"],[1.0,\"#f0f921\"]]},\"colorway\":[\"#636efa\",\"#EF553B\",\"#00cc96\",\"#ab63fa\",\"#FFA15A\",\"#19d3f3\",\"#FF6692\",\"#B6E880\",\"#FF97FF\",\"#FECB52\"],\"font\":{\"color\":\"#2a3f5f\"},\"geo\":{\"bgcolor\":\"white\",\"lakecolor\":\"white\",\"landcolor\":\"#E5ECF6\",\"showlakes\":true,\"showland\":true,\"subunitcolor\":\"white\"},\"hoverlabel\":{\"align\":\"left\"},\"hovermode\":\"closest\",\"mapbox\":{\"style\":\"light\"},\"paper_bgcolor\":\"white\",\"plot_bgcolor\":\"#E5ECF6\",\"polar\":{\"angularaxis\":{\"gridcolor\":\"white\",\"linecolor\":\"white\",\"ticks\":\"\"},\"bgcolor\":\"#E5ECF6\",\"radialaxis\":{\"gridcolor\":\"white\",\"linecolor\":\"white\",\"ticks\":\"\"}},\"scene\":{\"xaxis\":{\"backgroundcolor\":\"#E5ECF6\",\"gridcolor\":\"white\",\"gridwidth\":2,\"linecolor\":\"white\",\"showbackground\":true,\"ticks\":\"\",\"zerolinecolor\":\"white\"},\"yaxis\":{\"backgroundcolor\":\"#E5ECF6\",\"gridcolor\":\"white\",\"gridwidth\":2,\"linecolor\":\"white\",\"showbackground\":true,\"ticks\":\"\",\"zerolinecolor\":\"white\"},\"zaxis\":{\"backgroundcolor\":\"#E5ECF6\",\"gridcolor\":\"white\",\"gridwidth\":2,\"linecolor\":\"white\",\"showbackground\":true,\"ticks\":\"\",\"zerolinecolor\":\"white\"}},\"shapedefaults\":{\"line\":{\"color\":\"#2a3f5f\"}},\"ternary\":{\"aaxis\":{\"gridcolor\":\"white\",\"linecolor\":\"white\",\"ticks\":\"\"},\"baxis\":{\"gridcolor\":\"white\",\"linecolor\":\"white\",\"ticks\":\"\"},\"bgcolor\":\"#E5ECF6\",\"caxis\":{\"gridcolor\":\"white\",\"linecolor\":\"white\",\"ticks\":\"\"}},\"title\":{\"x\":0.05},\"xaxis\":{\"automargin\":true,\"gridcolor\":\"white\",\"linecolor\":\"white\",\"ticks\":\"\",\"title\":{\"standoff\":15},\"zerolinecolor\":\"white\",\"zerolinewidth\":2},\"yaxis\":{\"automargin\":true,\"gridcolor\":\"white\",\"linecolor\":\"white\",\"ticks\":\"\",\"title\":{\"standoff\":15},\"zerolinecolor\":\"white\",\"zerolinewidth\":2}}},\"scene\":{\"domain\":{\"x\":[0.0,1.0],\"y\":[0.0,1.0]},\"xaxis\":{\"title\":{\"text\":\"x\"}},\"yaxis\":{\"title\":{\"text\":\"y\"}},\"zaxis\":{\"title\":{\"text\":\"z\"}}},\"coloraxis\":{\"colorbar\":{\"title\":{\"text\":\"color\"}},\"colorscale\":[[0.0,\"#0d0887\"],[0.1111111111111111,\"#46039f\"],[0.2222222222222222,\"#7201a8\"],[0.3333333333333333,\"#9c179e\"],[0.4444444444444444,\"#bd3786\"],[0.5555555555555556,\"#d8576b\"],[0.6666666666666666,\"#ed7953\"],[0.7777777777777778,\"#fb9f3a\"],[0.8888888888888888,\"#fdca26\"],[1.0,\"#f0f921\"]]},\"legend\":{\"tracegroupgap\":0},\"margin\":{\"t\":60}},                        {\"responsive\": true}                    ).then(function(){\n",
              "                            \n",
              "var gd = document.getElementById('31c15242-386e-4b7e-bec5-433963ee6462');\n",
              "var x = new MutationObserver(function (mutations, observer) {{\n",
              "        var display = window.getComputedStyle(gd).display;\n",
              "        if (!display || display === 'none') {{\n",
              "            console.log([gd, 'removed!']);\n",
              "            Plotly.purge(gd);\n",
              "            observer.disconnect();\n",
              "        }}\n",
              "}});\n",
              "\n",
              "// Listen for the removal of the full notebook cells\n",
              "var notebookContainer = gd.closest('#notebook-container');\n",
              "if (notebookContainer) {{\n",
              "    x.observe(notebookContainer, {childList: true});\n",
              "}}\n",
              "\n",
              "// Listen for the clearing of the current output cell\n",
              "var outputEl = gd.closest('.output');\n",
              "if (outputEl) {{\n",
              "    x.observe(outputEl, {childList: true});\n",
              "}}\n",
              "\n",
              "                        })                };                            </script>        </div>\n",
              "</body>\n",
              "</html>"
            ]
          },
          "metadata": {}
        }
      ]
    },
    {
      "cell_type": "markdown",
      "metadata": {
        "id": "a5Uco5OvLl7c"
      },
      "source": [
        "### Task 1.2\n",
        "\n",
        "Which value would you use as a threshold to separate the classes? Use this threshold value to visualize the decision boundaries in a 2d grid (see example code below) and make predictions on the test set."
      ]
    },
    {
      "cell_type": "markdown",
      "source": [
        ""
      ],
      "metadata": {
        "id": "W4Xzhk27PyFy"
      }
    },
    {
      "cell_type": "code",
      "execution_count": null,
      "metadata": {
        "scrolled": false,
        "id": "6XOLt4FZLl7d",
        "outputId": "08cfa3a2-3da3-4575-e5b9-4cae1a924c79",
        "colab": {
          "base_uri": "https://localhost:8080/",
          "height": 377
        }
      },
      "outputs": [
        {
          "output_type": "display_data",
          "data": {
            "text/plain": [
              "<Figure size 864x432 with 1 Axes>"
            ],
            "image/png": "[encoded data removed]"
          },
          "metadata": {}
        }
      ],
      "source": [
        "def plot_decision_boundary(predict_fn):\n",
        "    ''' Plot decision boundary.\n",
        "\n",
        "    predict_fn: function handle to a predict function that takes\n",
        "                as input a data point x and outputs the predicted\n",
        "                label t\n",
        "    '''\n",
        "    fig = plt.figure(figsize=(12,6))\n",
        "    grid = np.meshgrid(t_pred_1, t_pred_1)\n",
        "    grid_x, grid_y = grid[0].flatten(), grid[1].flatten()\n",
        "    grid_t = np.array([\n",
        "        predict_fn([x, y]) for x, y, in zip(grid_x, grid_y)])\n",
        "    plt.scatter(grid[0][0], grid[1][0], c=t_2d, alpha=0.8)\n",
        "\n",
        "\n",
        "# The following example has the decision boundary at x[0] = 0.5\n",
        "predict_fn = lambda x: x[0] > 0.5\n",
        "plot_decision_boundary(predict_fn)"
      ]
    },
    {
      "cell_type": "code",
      "execution_count": null,
      "metadata": {
        "id": "uy9sM3t1Ll7d"
      },
      "outputs": [],
      "source": [
        "# Visualize decision boundaries\n"
      ]
    }
  ],
  "metadata": {
    "kernelspec": {
      "display_name": "Python 3",
      "language": "python",
      "name": "python3"
    },
    "language_info": {
      "codemirror_mode": {
        "name": "ipython",
        "version": 3
      },
      "file_extension": ".py",
      "mimetype": "text/x-python",
      "name": "python",
      "nbconvert_exporter": "python",
      "pygments_lexer": "ipython3",
      "version": "3.7.4"
    },
    "nteract": {
      "version": "0.23.3"
    },
    "colab": {
      "name": "3_NAME1_NAME2_NAME3.ipynb",
      "provenance": [],
      "collapsed_sections": []
    }
  },
  "nbformat": 4,
  "nbformat_minor": 0
}